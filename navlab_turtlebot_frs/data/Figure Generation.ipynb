{
 "cells": [
  {
   "cell_type": "code",
   "execution_count": 48,
   "metadata": {},
   "outputs": [],
   "source": [
    "import csv\n",
    "import numpy as np\n",
    "from scipy.stats import multivariate_normal\n",
    "import matplotlib.pyplot as plt\n",
    "import imageio"
   ]
  },
  {
   "cell_type": "code",
   "execution_count": 35,
   "metadata": {},
   "outputs": [
    {
     "data": {
      "text/plain": [
       "array([[ 5.17150000e+01, -4.99996282e-02,  3.72529030e-07, ...,\n",
       "         1.78000000e-01,  0.00000000e+00,  0.00000000e+00],\n",
       "       [ 5.18150000e+01, -4.99996282e-02,  3.72529030e-07, ...,\n",
       "         1.78000000e-01,  0.00000000e+00,  0.00000000e+00],\n",
       "       [ 5.19150000e+01, -4.99996282e-02,  3.72529030e-07, ...,\n",
       "         1.78000000e-01,  0.00000000e+00,  0.00000000e+00],\n",
       "       ...,\n",
       "       [ 1.71415000e+02, -4.99996282e-02,  3.72529030e-07, ...,\n",
       "         1.78000000e-01,  0.00000000e+00,  0.00000000e+00],\n",
       "       [ 1.71515000e+02, -4.99996282e-02,  3.72529030e-07, ...,\n",
       "         1.78000000e-01,  0.00000000e+00,  0.00000000e+00],\n",
       "       [ 1.71615000e+02, -4.99996282e-02,  3.72529030e-07, ...,\n",
       "         1.78000000e-01,  0.00000000e+00,  0.00000000e+00]])"
      ]
     },
     "metadata": {},
     "output_type": "display_data"
    },
    {
     "data": {
      "text/plain": [
       "array([[ 5.17150000e+01, -4.99996282e-02,  3.72529030e-07, ...,\n",
       "         0.00000000e+00,  0.00000000e+00,  0.00000000e+00],\n",
       "       [ 5.18150000e+01, -1.55407044e-02,  3.28876411e-02, ...,\n",
       "         0.00000000e+00,  0.00000000e+00,  0.00000000e+00],\n",
       "       [ 5.19150000e+01,  2.20374170e-03,  5.04978098e-02, ...,\n",
       "         0.00000000e+00,  0.00000000e+00,  0.00000000e+00],\n",
       "       ...,\n",
       "       [ 6.25150000e+01,  1.90000040e+00,  1.90000040e+00, ...,\n",
       "         0.00000000e+00,  0.00000000e+00,  0.00000000e+00],\n",
       "       [ 6.26150000e+01,  1.95000040e+00,  1.95000040e+00, ...,\n",
       "         0.00000000e+00,  0.00000000e+00,  0.00000000e+00],\n",
       "       [ 6.27150000e+01,  2.00000000e+00,  2.00000000e+00, ...,\n",
       "         0.00000000e+00,  0.00000000e+00,  0.00000000e+00]])"
      ]
     },
     "metadata": {},
     "output_type": "display_data"
    },
    {
     "data": {
      "text/plain": [
       "array([ 5.17150000e+01, -4.99996282e-02,  3.72529030e-07,  0.00000000e+00,\n",
       "        0.00000000e+00,  1.00000000e+00,  0.00000000e+00,  0.00000000e+00,\n",
       "        0.00000000e+00,  0.00000000e+00,  1.00000000e+00,  0.00000000e+00,\n",
       "        0.00000000e+00])"
      ]
     },
     "metadata": {},
     "output_type": "display_data"
    }
   ],
   "source": [
    "first = np.loadtxt(\"happyfrsfirst.csv\", delimiter=\",\")\n",
    "display(first)\n",
    "\n",
    "second = np.loadtxt(\"happyfrssecond.csv\", delimiter=\",\")\n",
    "display(second)\n",
    "\n",
    "third = np.loadtxt(\"happyfrsthird.csv\", delimiter=\",\")\n",
    "display(third)"
   ]
  },
  {
   "cell_type": "code",
   "execution_count": 53,
   "metadata": {},
   "outputs": [
    {
     "name": "stdout",
     "output_type": "stream",
     "text": [
      "[2. 2.]\n",
      "[[-35. -35.]\n",
      " [-35. -35.]]\n",
      "[-4.99996282e-02  3.72529030e-07]\n",
      "[[1. 0.]\n",
      " [0. 1.]]\n"
     ]
    },
    {
     "data": {
      "image/png": "[encoded data removed]",
      "text/plain": [
       "<Figure size 700x600 with 2 Axes>"
      ]
     },
     "metadata": {},
     "output_type": "display_data"
    }
   ],
   "source": [
    "# Visualize setup\n",
    "fig, ax = plt.subplots(figsize=(7,6))\n",
    "ax.set_xlim((-10, 10))\n",
    "ax.set_ylim((-10, 10))\n",
    "ax.grid()\n",
    "\n",
    "ts = third[0]\n",
    "viz = np.mgrid[-10:10:.1, -10:10:.1]\n",
    "print(second[-1,1:3])\n",
    "print(np.vstack((second[-1,5:7],second[-1,9:11])))\n",
    "no_fault = multivariate_normal(mean=second[-1,1:3], cov=np.eye(2))\n",
    "print(third[1:3])\n",
    "print(np.vstack((third[5:7],third[9:11])))\n",
    "fault = multivariate_normal(mean=third[1:3], cov=np.vstack((third[5:7],third[9:11])))\n",
    "img = (ts * .01) * fault.pdf(np.dstack((viz[0], viz[1]))) + \\\n",
    "      (1-ts*.01) * no_fault.pdf(np.dstack((viz[0], viz[1]))) + (ts * .01) * fault.pdf(np.dstack((viz[0], viz[1])))\n",
    "plt.contourf(viz[0],viz[1],img, vmin=0,vmax=.2)\n",
    "plt.colorbar()\n",
    "    \n",
    "plt.show()"
   ]
  },
  {
   "cell_type": "code",
   "execution_count": 21,
   "metadata": {},
   "outputs": [
    {
     "name": "stdout",
     "output_type": "stream",
     "text": [
      "[[1. 0.]\n",
      " [0. 1.]\n",
      " [0. 0.]\n",
      " [0. 0.]]\n",
      "[[1. 0. 0. 0.]\n",
      " [0. 1. 0. 0.]]\n",
      "[1. 0. 0. 0. 0. 1. 0. 0.]\n"
     ]
    }
   ],
   "source": [
    "a = np.vstack((np.eye(2), np.zeros((2,2))))\n",
    "print(a)\n",
    "print(a.T)\n",
    "print(a.T.flatten())"
   ]
  },
  {
   "cell_type": "code",
   "execution_count": 54,
   "metadata": {},
   "outputs": [
    {
     "name": "stdout",
     "output_type": "stream",
     "text": [
      "0\n",
      "1\n",
      "2\n",
      "3\n",
      "4\n",
      "5\n",
      "6\n",
      "7\n",
      "8\n",
      "9\n",
      "10\n",
      "11\n",
      "12\n",
      "13\n",
      "14\n",
      "15\n",
      "16\n",
      "17\n",
      "18\n",
      "19\n",
      "20\n",
      "21\n",
      "22\n",
      "23\n",
      "24\n",
      "25\n",
      "26\n",
      "27\n",
      "28\n",
      "29\n",
      "30\n",
      "31\n",
      "32\n",
      "33\n",
      "34\n",
      "35\n",
      "36\n",
      "37\n",
      "38\n",
      "39\n",
      "40\n",
      "41\n",
      "42\n",
      "43\n",
      "44\n",
      "45\n",
      "46\n",
      "47\n",
      "48\n",
      "49\n",
      "50\n",
      "51\n",
      "52\n",
      "53\n",
      "54\n",
      "55\n",
      "56\n",
      "57\n",
      "58\n",
      "59\n",
      "60\n",
      "61\n",
      "62\n",
      "63\n",
      "64\n",
      "65\n",
      "66\n",
      "67\n",
      "68\n",
      "69\n",
      "70\n",
      "71\n",
      "72\n",
      "73\n",
      "74\n",
      "75\n",
      "76\n",
      "77\n",
      "78\n",
      "79\n",
      "80\n",
      "81\n",
      "82\n",
      "83\n",
      "84\n",
      "85\n",
      "86\n",
      "87\n",
      "88\n",
      "89\n",
      "90\n",
      "91\n",
      "92\n",
      "93\n",
      "94\n",
      "95\n",
      "96\n",
      "97\n",
      "98\n",
      "99\n",
      "100\n",
      "101\n",
      "102\n",
      "103\n",
      "104\n",
      "105\n",
      "106\n",
      "107\n",
      "108\n",
      "109\n",
      "110\n"
     ]
    }
   ],
   "source": [
    "def gen_frame(j):\n",
    "    # Visualize setup\n",
    "    fig, ax = plt.subplots(figsize=(7,6))\n",
    "    ax.set_xlim((-5, 5))\n",
    "    ax.set_ylim((-5, 5))\n",
    "    ax.grid()\n",
    "\n",
    "    ts = second[j,0]\n",
    "    viz = np.mgrid[-5:5:.1, -5:5:.1]\n",
    "    no_fault = multivariate_normal(mean=second[j,1:3], cov=np.eye(2))\n",
    "    fault = multivariate_normal(mean=third[1:3], cov=np.vstack((third[5:7],third[9:11])))\n",
    "    img = (ts * .01) * fault.pdf(np.dstack((viz[0], viz[1]))) + \\\n",
    "          (1-ts*.01) * no_fault.pdf(np.dstack((viz[0], viz[1]))) + (ts * .01) * fault.pdf(np.dstack((viz[0], viz[1])))\n",
    "    plt.contourf(viz[0],viz[1],img,vmin=0,vmax=.3)\n",
    "    plt.colorbar()\n",
    "\n",
    "    # Used to return the plot as an image rray\n",
    "    fig.canvas.draw()       # draw the canvas, cache the renderer\n",
    "    image = np.frombuffer(fig.canvas.tostring_rgb(), dtype='uint8')\n",
    "    image  = image.reshape(fig.canvas.get_width_height()[::-1] + (3,))\n",
    "    plt.close(\"all\")\n",
    "    print(j)\n",
    "    return image\n",
    "\n",
    "kwargs_write = {'fps':1.0, 'quantizer':'nq'}\n",
    "#final version should be 90x160px\n",
    "imageio.mimsave('./frs.gif', [gen_frame(j) for j in range(len(second))], fps=10) #len(Ps[:,0])"
   ]
  },
  {
   "cell_type": "code",
   "execution_count": null,
   "metadata": {},
   "outputs": [],
   "source": []
  }
 ],
 "metadata": {
  "kernelspec": {
   "display_name": "Python 3",
   "language": "python",
   "name": "python3"
  },
  "language_info": {
   "codemirror_mode": {
    "name": "ipython",
    "version": 3
   },
   "file_extension": ".py",
   "mimetype": "text/x-python",
   "name": "python",
   "nbconvert_exporter": "python",
   "pygments_lexer": "ipython3",
   "version": "3.7.6"
  },
  "latex_envs": {
   "LaTeX_envs_menu_present": true,
   "autoclose": false,
   "autocomplete": true,
   "bibliofile": "biblio.bib",
   "cite_by": "apalike",
   "current_citInitial": 1,
   "eqLabelWithNumbers": true,
   "eqNumInitial": 1,
   "hotkeys": {
    "equation": "Ctrl-E",
    "itemize": "Ctrl-I"
   },
   "labels_anchors": false,
   "latex_user_defs": false,
   "report_style_numbering": false,
   "user_envs_cfg": false
  }
 },
 "nbformat": 4,
 "nbformat_minor": 4
}
