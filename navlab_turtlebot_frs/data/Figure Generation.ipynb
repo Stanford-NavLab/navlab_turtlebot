{
 "cells": [
  {
   "cell_type": "code",
   "execution_count": 1,
   "metadata": {},
   "outputs": [],
   "source": [
    "import csv\n",
    "import numpy as np\n",
    "from scipy.stats import multivariate_normal\n",
    "import matplotlib.pyplot as plt\n",
    "import imageio"
   ]
  },
  {
   "cell_type": "markdown",
   "metadata": {
    "heading_collapsed": true
   },
   "source": [
    "# Happy FRS"
   ]
  },
  {
   "cell_type": "code",
   "execution_count": 2,
   "metadata": {
    "hidden": true
   },
   "outputs": [
    {
     "data": {
      "text/plain": [
       "array([[ 5.17150000e+01, -4.99996282e-02,  3.72529030e-07, ...,\n",
       "         1.78000000e-01,  0.00000000e+00,  0.00000000e+00],\n",
       "       [ 5.18150000e+01, -4.99996282e-02,  3.72529030e-07, ...,\n",
       "         1.78000000e-01,  0.00000000e+00,  0.00000000e+00],\n",
       "       [ 5.19150000e+01, -4.99996282e-02,  3.72529030e-07, ...,\n",
       "         1.78000000e-01,  0.00000000e+00,  0.00000000e+00],\n",
       "       ...,\n",
       "       [ 1.71415000e+02, -4.99996282e-02,  3.72529030e-07, ...,\n",
       "         1.78000000e-01,  0.00000000e+00,  0.00000000e+00],\n",
       "       [ 1.71515000e+02, -4.99996282e-02,  3.72529030e-07, ...,\n",
       "         1.78000000e-01,  0.00000000e+00,  0.00000000e+00],\n",
       "       [ 1.71615000e+02, -4.99996282e-02,  3.72529030e-07, ...,\n",
       "         1.78000000e-01,  0.00000000e+00,  0.00000000e+00]])"
      ]
     },
     "metadata": {},
     "output_type": "display_data"
    },
    {
     "data": {
      "text/plain": [
       "array([[ 5.17150000e+01, -4.99996282e-02,  3.72529030e-07, ...,\n",
       "         0.00000000e+00,  0.00000000e+00,  0.00000000e+00],\n",
       "       [ 5.18150000e+01, -1.55407044e-02,  3.28876411e-02, ...,\n",
       "         0.00000000e+00,  0.00000000e+00,  0.00000000e+00],\n",
       "       [ 5.19150000e+01,  2.20374170e-03,  5.04978098e-02, ...,\n",
       "         0.00000000e+00,  0.00000000e+00,  0.00000000e+00],\n",
       "       ...,\n",
       "       [ 6.25150000e+01,  1.90000040e+00,  1.90000040e+00, ...,\n",
       "         0.00000000e+00,  0.00000000e+00,  0.00000000e+00],\n",
       "       [ 6.26150000e+01,  1.95000040e+00,  1.95000040e+00, ...,\n",
       "         0.00000000e+00,  0.00000000e+00,  0.00000000e+00],\n",
       "       [ 6.27150000e+01,  2.00000000e+00,  2.00000000e+00, ...,\n",
       "         0.00000000e+00,  0.00000000e+00,  0.00000000e+00]])"
      ]
     },
     "metadata": {},
     "output_type": "display_data"
    },
    {
     "data": {
      "text/plain": [
       "array([ 5.17150000e+01, -4.99996282e-02,  3.72529030e-07,  0.00000000e+00,\n",
       "        0.00000000e+00,  1.00000000e+00,  0.00000000e+00,  0.00000000e+00,\n",
       "        0.00000000e+00,  0.00000000e+00,  1.00000000e+00,  0.00000000e+00,\n",
       "        0.00000000e+00])"
      ]
     },
     "metadata": {},
     "output_type": "display_data"
    }
   ],
   "source": [
    "first = np.loadtxt(\"happyfrsfirst.csv\", delimiter=\",\")\n",
    "display(first)\n",
    "\n",
    "second = np.loadtxt(\"happyfrssecond.csv\", delimiter=\",\")\n",
    "display(second)\n",
    "\n",
    "third = np.loadtxt(\"happyfrsthird.csv\", delimiter=\",\")\n",
    "display(third)"
   ]
  },
  {
   "cell_type": "code",
   "execution_count": 3,
   "metadata": {
    "hidden": true
   },
   "outputs": [
    {
     "name": "stdout",
     "output_type": "stream",
     "text": [
      "[2. 2.]\n",
      "[[-35. -35.]\n",
      " [-35. -35.]]\n",
      "[-4.99996282e-02  3.72529030e-07]\n",
      "[[1. 0.]\n",
      " [0. 1.]]\n"
     ]
    },
    {
     "data": {
      "image/png": "[encoded data removed]",
      "text/plain": [
       "<Figure size 700x600 with 2 Axes>"
      ]
     },
     "metadata": {},
     "output_type": "display_data"
    }
   ],
   "source": [
    "# Visualize setup\n",
    "fig, ax = plt.subplots(figsize=(7,6))\n",
    "ax.set_xlim((-10, 10))\n",
    "ax.set_ylim((-10, 10))\n",
    "ax.grid()\n",
    "\n",
    "ts = third[0]\n",
    "viz = np.mgrid[-10:10:.1, -10:10:.1]\n",
    "print(second[-1,1:3])\n",
    "print(np.vstack((second[-1,5:7],second[-1,9:11])))\n",
    "no_fault = multivariate_normal(mean=second[-1,1:3], cov=np.eye(2))\n",
    "print(third[1:3])\n",
    "print(np.vstack((third[5:7],third[9:11])))\n",
    "fault = multivariate_normal(mean=third[1:3], cov=np.vstack((third[5:7],third[9:11])))\n",
    "img = (ts * .01) * fault.pdf(np.dstack((viz[0], viz[1]))) + \\\n",
    "      (1-ts*.01) * no_fault.pdf(np.dstack((viz[0], viz[1]))) + (ts * .01) * fault.pdf(np.dstack((viz[0], viz[1])))\n",
    "plt.contourf(viz[0],viz[1],img, vmin=0,vmax=.2)\n",
    "plt.colorbar()\n",
    "    \n",
    "plt.show()"
   ]
  },
  {
   "cell_type": "code",
   "execution_count": 4,
   "metadata": {
    "hidden": true
   },
   "outputs": [
    {
     "name": "stdout",
     "output_type": "stream",
     "text": [
      "[[-4.99996282e-02  3.72529030e-07]\n",
      " [-1.55407044e-02  3.28876411e-02]\n",
      " [ 2.20374170e-03  5.04978098e-02]\n",
      " [ 1.99558172e-02  6.81003491e-02]\n",
      " [ 3.77139961e-02  8.56967849e-02]\n",
      " [ 5.54599681e-02  1.03305428e-01]\n",
      " [ 7.32120435e-02  1.20909493e-01]\n",
      " [ 9.09686966e-02  1.38507455e-01]\n",
      " [ 1.08716194e-01  1.56116098e-01]\n",
      " [ 1.26466744e-01  1.73718637e-01]\n",
      " [ 1.44223397e-01  1.91318124e-01]\n",
      " [ 1.61972421e-01  2.08925241e-01]\n",
      " [ 1.79724496e-01  2.26527781e-01]\n",
      " [ 1.97481149e-01  2.44125742e-01]\n",
      " [ 2.15230173e-01  2.61731333e-01]\n",
      " [ 2.32983774e-01  2.79332347e-01]\n",
      " [ 2.50909800e-01  2.96759410e-01]\n",
      " [ 2.68657298e-01  3.14366527e-01]\n",
      " [ 2.86415477e-01  3.31962963e-01]\n",
      " [ 3.04291149e-01  3.49440380e-01]\n",
      " [ 3.22043224e-01  3.67042920e-01]\n",
      " [ 3.39810558e-01  3.84630200e-01]\n",
      " [ 3.57565685e-01  4.02229688e-01]\n",
      " [ 3.75337597e-01  4.19813916e-01]\n",
      " [ 3.93121716e-01  4.37384412e-01]\n",
      " [ 4.10899732e-01  4.54961012e-01]\n",
      " [ 4.28689954e-01  4.72525404e-01]\n",
      " [ 4.46490858e-01  4.90077589e-01]\n",
      " [ 4.64288710e-01  5.07635878e-01]\n",
      " [ 4.82095717e-01  5.25181960e-01]\n",
      " [ 5.00015639e-01  5.42615127e-01]\n",
      " [ 5.17831801e-01  5.60153579e-01]\n",
      " [ 5.35655593e-01  5.77682876e-01]\n",
      " [ 5.53573989e-01  5.95117569e-01]\n",
      " [ 5.71405410e-01  6.12640763e-01]\n",
      " [ 5.89244461e-01  6.30154801e-01]\n",
      " [ 6.07159805e-01  6.47589494e-01]\n",
      " [ 6.25006485e-01  6.65097428e-01]\n",
      " [ 6.42856217e-01  6.82602311e-01]\n",
      " [ 6.60705949e-01  7.00104143e-01]\n",
      " [ 6.78561784e-01  7.17602922e-01]\n",
      " [ 6.96420671e-01  7.35095598e-01]\n",
      " [ 7.14282610e-01  7.52591326e-01]\n",
      " [ 7.32147600e-01  7.70080950e-01]\n",
      " [ 7.50091936e-01  7.87485125e-01]\n",
      " [ 7.67959979e-01  8.04968646e-01]\n",
      " [ 7.85834124e-01  8.22449115e-01]\n",
      " [ 8.03778461e-01  8.39856342e-01]\n",
      " [ 8.21655658e-01  8.57330708e-01]\n",
      " [ 8.39538959e-01  8.74802021e-01]\n",
      " [ 8.57480244e-01  8.92212300e-01]\n",
      " [ 8.75366597e-01  9.09677510e-01]\n",
      " [ 8.93256001e-01  9.27142720e-01]\n",
      " [ 9.11194234e-01  9.44552999e-01]\n",
      " [ 9.29089742e-01  9.62012106e-01]\n",
      " [ 9.46988302e-01  9.79468161e-01]\n",
      " [ 9.64926534e-01  9.96878439e-01]\n",
      " [ 9.82828146e-01  1.01433144e+00]\n",
      " [ 1.00079384e+00  1.03171426e+00]\n",
      " [ 1.01873513e+00  1.04912453e+00]\n",
      " [ 1.03664590e+00  1.06656838e+00]\n",
      " [ 1.05461159e+00  1.08395119e+00]\n",
      " [ 1.07252541e+00  1.10138894e+00]\n",
      " [ 1.09044228e+00  1.11882363e+00]\n",
      " [ 1.10840798e+00  1.13620950e+00]\n",
      " [ 1.12632790e+00  1.15364114e+00]\n",
      " [ 1.14425088e+00  1.17106973e+00]\n",
      " [ 1.16221658e+00  1.18845559e+00]\n",
      " [ 1.18014565e+00  1.20587808e+00]\n",
      " [ 1.19807473e+00  1.22330056e+00]\n",
      " [ 1.21604043e+00  1.24068337e+00]\n",
      " [ 1.23397561e+00  1.25810281e+00]\n",
      " [ 1.25196572e+00  1.27546121e+00]\n",
      " [ 1.26993447e+00  1.29284402e+00]\n",
      " [ 1.28787576e+00  1.31025430e+00]\n",
      " [ 1.30586587e+00  1.32761270e+00]\n",
      " [ 1.32383767e+00  1.34499246e+00]\n",
      " [ 1.34178506e+00  1.36239358e+00]\n",
      " [ 1.35977822e+00  1.37975198e+00]\n",
      " [ 1.37775003e+00  1.39712869e+00]\n",
      " [ 1.39570657e+00  1.41452371e+00]\n",
      " [ 1.41369973e+00  1.43188211e+00]\n",
      " [ 1.43167459e+00  1.44925577e+00]\n",
      " [ 1.44963723e+00  1.46664468e+00]\n",
      " [ 1.46763040e+00  1.48400003e+00]\n",
      " [ 1.48559915e+00  1.50138284e+00]\n",
      " [ 1.50361673e+00  1.51871377e+00]\n",
      " [ 1.52161294e+00  1.53606607e+00]\n",
      " [ 1.53958780e+00  1.55343973e+00]\n",
      " [ 1.55760843e+00  1.57077066e+00]\n",
      " [ 1.57560770e+00  1.58811990e+00]\n",
      " [ 1.59358865e+00  1.60548746e+00]\n",
      " [ 1.61160928e+00  1.62281839e+00]\n",
      " [ 1.62961160e+00  1.64016458e+00]\n",
      " [ 1.64760172e+00  1.65752603e+00]\n",
      " [ 1.66562235e+00  1.67485086e+00]\n",
      " [ 1.68362772e+00  1.69219705e+00]\n",
      " [ 1.70167276e+00  1.70949747e+00]\n",
      " [ 1.71969644e+00  1.72682230e+00]\n",
      " [ 1.73770792e+00  1.74416239e+00]\n",
      " [ 1.75575296e+00  1.76146280e+00]\n",
      " [ 1.77377970e+00  1.77878458e+00]\n",
      " [ 1.79179422e+00  1.79611856e+00]\n",
      " [ 1.80984232e+00  1.81341898e+00]\n",
      " [ 1.82787210e+00  1.83073465e+00]\n",
      " [ 1.84588968e+00  1.84806559e+00]\n",
      " [ 1.86394388e+00  1.86535990e+00]\n",
      " [ 1.88197672e+00  1.88267557e+00]\n",
      " [ 1.90000040e+00  1.90000040e+00]\n",
      " [ 1.95000040e+00  1.95000040e+00]\n",
      " [ 2.00000000e+00  2.00000000e+00]]\n"
     ]
    }
   ],
   "source": [
    "print(second[:,1:3])"
   ]
  },
  {
   "cell_type": "code",
   "execution_count": 54,
   "metadata": {
    "hidden": true
   },
   "outputs": [
    {
     "name": "stdout",
     "output_type": "stream",
     "text": [
      "0\n",
      "1\n",
      "2\n",
      "3\n",
      "4\n",
      "5\n",
      "6\n",
      "7\n",
      "8\n",
      "9\n",
      "10\n",
      "11\n",
      "12\n",
      "13\n",
      "14\n",
      "15\n",
      "16\n",
      "17\n",
      "18\n",
      "19\n",
      "20\n",
      "21\n",
      "22\n",
      "23\n",
      "24\n",
      "25\n",
      "26\n",
      "27\n",
      "28\n",
      "29\n",
      "30\n",
      "31\n",
      "32\n",
      "33\n",
      "34\n",
      "35\n",
      "36\n",
      "37\n",
      "38\n",
      "39\n",
      "40\n",
      "41\n",
      "42\n",
      "43\n",
      "44\n",
      "45\n",
      "46\n",
      "47\n",
      "48\n",
      "49\n",
      "50\n",
      "51\n",
      "52\n",
      "53\n",
      "54\n",
      "55\n",
      "56\n",
      "57\n",
      "58\n",
      "59\n",
      "60\n",
      "61\n",
      "62\n",
      "63\n",
      "64\n",
      "65\n",
      "66\n",
      "67\n",
      "68\n",
      "69\n",
      "70\n",
      "71\n",
      "72\n",
      "73\n",
      "74\n",
      "75\n",
      "76\n",
      "77\n",
      "78\n",
      "79\n",
      "80\n",
      "81\n",
      "82\n",
      "83\n",
      "84\n",
      "85\n",
      "86\n",
      "87\n",
      "88\n",
      "89\n",
      "90\n",
      "91\n",
      "92\n",
      "93\n",
      "94\n",
      "95\n",
      "96\n",
      "97\n",
      "98\n",
      "99\n",
      "100\n",
      "101\n",
      "102\n",
      "103\n",
      "104\n",
      "105\n",
      "106\n",
      "107\n",
      "108\n",
      "109\n",
      "110\n"
     ]
    }
   ],
   "source": [
    "def gen_frame(j):\n",
    "    # Visualize setup\n",
    "    fig, ax = plt.subplots(figsize=(7,6))\n",
    "    ax.set_xlim((-5, 5))\n",
    "    ax.set_ylim((-5, 5))\n",
    "    ax.grid()\n",
    "\n",
    "    ts = second[j,0]\n",
    "    viz = np.mgrid[-5:5:.1, -5:5:.1]\n",
    "    no_fault = multivariate_normal(mean=second[j,1:3], cov=np.eye(2))\n",
    "    fault = multivariate_normal(mean=third[1:3], cov=np.vstack((third[5:7],third[9:11])))\n",
    "    img = (ts * .01) * fault.pdf(np.dstack((viz[0], viz[1]))) + \\\n",
    "          (1-ts*.01) * no_fault.pdf(np.dstack((viz[0], viz[1]))) + (ts * .01) * fault.pdf(np.dstack((viz[0], viz[1])))\n",
    "    plt.contourf(viz[0],viz[1],img,vmin=0,vmax=.3)\n",
    "    plt.colorbar()\n",
    "\n",
    "    # Used to return the plot as an image rray\n",
    "    fig.canvas.draw()       # draw the canvas, cache the renderer\n",
    "    image = np.frombuffer(fig.canvas.tostring_rgb(), dtype='uint8')\n",
    "    image  = image.reshape(fig.canvas.get_width_height()[::-1] + (3,))\n",
    "    plt.close(\"all\")\n",
    "    print(j)\n",
    "    return image\n",
    "\n",
    "kwargs_write = {'fps':1.0, 'quantizer':'nq'}\n",
    "#final version should be 90x160px\n",
    "imageio.mimsave('./frs.gif', [gen_frame(j) for j in range(len(second))], fps=10) #len(Ps[:,0])"
   ]
  },
  {
   "cell_type": "markdown",
   "metadata": {},
   "source": [
    "# Calibration"
   ]
  },
  {
   "cell_type": "code",
   "execution_count": 6,
   "metadata": {},
   "outputs": [
    {
     "data": {
      "text/plain": [
       "(6, 1200)"
      ]
     },
     "metadata": {},
     "output_type": "display_data"
    },
    {
     "data": {
      "text/plain": [
       "(6, 400)"
      ]
     },
     "metadata": {},
     "output_type": "display_data"
    },
    {
     "data": {
      "text/plain": [
       "(3,)"
      ]
     },
     "metadata": {},
     "output_type": "display_data"
    }
   ],
   "source": [
    "calodom = np.loadtxt(\"calodom.csv\", delimiter=\",\")\n",
    "display(calodom.shape)\n",
    "\n",
    "caltraj = np.loadtxt(\"caltraj.csv\", delimiter=\",\")\n",
    "display(caltraj.shape)\n",
    "\n",
    "calsplit = np.loadtxt(\"calsplit.txt\", delimiter=\",\")\n",
    "display(calsplit.shape)"
   ]
  },
  {
   "cell_type": "code",
   "execution_count": 38,
   "metadata": {},
   "outputs": [
    {
     "data": {
      "text/plain": [
       "array([[-0.89730759, -0.89730759, -0.89730759, ...,  0.        ,\n",
       "         0.        ,  0.        ],\n",
       "       [-1.25095979, -1.25095979, -1.25095979, ...,  0.        ,\n",
       "         0.        ,  0.        ],\n",
       "       [-4.62511461, -4.62511461, -4.62511461, ...,  0.        ,\n",
       "         0.        ,  0.        ],\n",
       "       [ 2.06139492,  2.06139492,  2.06139492, ...,  0.        ,\n",
       "         0.        ,  0.        ],\n",
       "       [-4.60775012, -4.6077472 , -4.60774722, ...,  0.        ,\n",
       "         0.        ,  0.        ],\n",
       "       [-0.34327445, -0.34325686, -0.34325697, ...,  0.        ,\n",
       "         0.        ,  0.        ]])"
      ]
     },
     "execution_count": 38,
     "metadata": {},
     "output_type": "execute_result"
    }
   ],
   "source": [
    "calodom"
   ]
  },
  {
   "cell_type": "code",
   "execution_count": 37,
   "metadata": {},
   "outputs": [
    {
     "data": {
      "image/png": "[encoded data removed]",
      "text/plain": [
       "<Figure size 640x480 with 1 Axes>"
      ]
     },
     "metadata": {},
     "output_type": "display_data"
    }
   ],
   "source": [
    "sim = 0\n",
    "plt.figure()\n",
    "plt.scatter(calodom[sim*2,:],calodom[sim*2+1,:])\n",
    "#plt.scatter(caltraj[sim*2],caltraj[sim*2+1])\n",
    "plt.show()"
   ]
  },
  {
   "cell_type": "code",
   "execution_count": 45,
   "metadata": {},
   "outputs": [],
   "source": [
    "n_sim = 3\n",
    "normdata = np.zeros((3,400,2))\n",
    "covslists = []\n",
    "\n",
    "for i in range(n_sim):\n",
    "    for sim in range(i):\n",
    "        for t in range(400):\n",
    "            trajx = caltraj[sim*2,t]\n",
    "            trajy = caltraj[sim*2+1,t]\n",
    "            odomx = calodom[sim*2,t*3]\n",
    "            odomy = calodom[sim*2+1,t*3]\n",
    "            normdata[sim,t] = (np.array([trajx,trajy]) - np.array([odomx,odomy]))\n",
    "    covs = []\n",
    "    for t in range(400):\n",
    "        current = normdata[:,t,:]\n",
    "        current = current[np.any(current,axis=1)]\n",
    "        covs.append(np.cov(normdata[:,t,:].T,ddof=0))\n",
    "    covslists.append(np.array(covs))\n",
    "    \n",
    "covslists = np.array(covslists)"
   ]
  },
  {
   "cell_type": "code",
   "execution_count": 47,
   "metadata": {},
   "outputs": [
    {
     "data": {
      "image/png": "[encoded data removed]",
      "text/plain": [
       "<Figure size 640x480 with 1 Axes>"
      ]
     },
     "metadata": {},
     "output_type": "display_data"
    }
   ],
   "source": [
    "plt.figure()\n",
    "for i in range(2):\n",
    "    for j in range(2):\n",
    "        plt.plot(covslists[:,0,i,j],label=str(i)+\" \"+str(j))\n",
    "plt.legend()\n",
    "plt.show()"
   ]
  },
  {
   "cell_type": "code",
   "execution_count": 44,
   "metadata": {},
   "outputs": [
    {
     "ename": "TypeError",
     "evalue": "list indices must be integers or slices, not tuple",
     "output_type": "error",
     "traceback": [
      "\u001b[1;31m---------------------------------------------------------------------------\u001b[0m",
      "\u001b[1;31mTypeError\u001b[0m                                 Traceback (most recent call last)",
      "\u001b[1;32m<ipython-input-44-897a7854908b>\u001b[0m in \u001b[0;36m<module>\u001b[1;34m\u001b[0m\n\u001b[0;32m      2\u001b[0m \u001b[1;32mfor\u001b[0m \u001b[0mi\u001b[0m \u001b[1;32min\u001b[0m \u001b[0mrange\u001b[0m\u001b[1;33m(\u001b[0m\u001b[1;36m2\u001b[0m\u001b[1;33m)\u001b[0m\u001b[1;33m:\u001b[0m\u001b[1;33m\u001b[0m\u001b[1;33m\u001b[0m\u001b[0m\n\u001b[0;32m      3\u001b[0m     \u001b[1;32mfor\u001b[0m \u001b[0mj\u001b[0m \u001b[1;32min\u001b[0m \u001b[0mrange\u001b[0m\u001b[1;33m(\u001b[0m\u001b[1;36m2\u001b[0m\u001b[1;33m)\u001b[0m\u001b[1;33m:\u001b[0m\u001b[1;33m\u001b[0m\u001b[1;33m\u001b[0m\u001b[0m\n\u001b[1;32m----> 4\u001b[1;33m         \u001b[0mplt\u001b[0m\u001b[1;33m.\u001b[0m\u001b[0mplot\u001b[0m\u001b[1;33m(\u001b[0m\u001b[0mcovs\u001b[0m\u001b[1;33m[\u001b[0m\u001b[1;33m:\u001b[0m\u001b[1;33m,\u001b[0m\u001b[0mi\u001b[0m\u001b[1;33m,\u001b[0m\u001b[0mj\u001b[0m\u001b[1;33m]\u001b[0m\u001b[1;33m,\u001b[0m\u001b[0mlabel\u001b[0m\u001b[1;33m=\u001b[0m\u001b[0mstr\u001b[0m\u001b[1;33m(\u001b[0m\u001b[0mi\u001b[0m\u001b[1;33m)\u001b[0m\u001b[1;33m+\u001b[0m\u001b[1;34m\" \"\u001b[0m\u001b[1;33m+\u001b[0m\u001b[0mstr\u001b[0m\u001b[1;33m(\u001b[0m\u001b[0mj\u001b[0m\u001b[1;33m)\u001b[0m\u001b[1;33m)\u001b[0m\u001b[1;33m\u001b[0m\u001b[1;33m\u001b[0m\u001b[0m\n\u001b[0m\u001b[0;32m      5\u001b[0m \u001b[0mplt\u001b[0m\u001b[1;33m.\u001b[0m\u001b[0mlegend\u001b[0m\u001b[1;33m(\u001b[0m\u001b[1;33m)\u001b[0m\u001b[1;33m\u001b[0m\u001b[1;33m\u001b[0m\u001b[0m\n\u001b[0;32m      6\u001b[0m \u001b[0mplt\u001b[0m\u001b[1;33m.\u001b[0m\u001b[0mylim\u001b[0m\u001b[1;33m(\u001b[0m\u001b[1;33m[\u001b[0m\u001b[1;33m-\u001b[0m\u001b[1;36m5\u001b[0m\u001b[1;33m,\u001b[0m\u001b[1;36m5\u001b[0m\u001b[1;33m]\u001b[0m\u001b[1;33m)\u001b[0m\u001b[1;33m\u001b[0m\u001b[1;33m\u001b[0m\u001b[0m\n",
      "\u001b[1;31mTypeError\u001b[0m: list indices must be integers or slices, not tuple"
     ]
    }
   ],
   "source": [
    "plt.figure()\n",
    "for i in range(2):\n",
    "    for j in range(2):\n",
    "        plt.plot(covs[:,i,j],label=str(i)+\" \"+str(j))\n",
    "plt.legend()\n",
    "plt.ylim([-5,5])\n",
    "plt.show()"
   ]
  },
  {
   "cell_type": "code",
   "execution_count": null,
   "metadata": {},
   "outputs": [],
   "source": []
  }
 ],
 "metadata": {
  "kernelspec": {
   "display_name": "Python 3",
   "language": "python",
   "name": "python3"
  },
  "language_info": {
   "codemirror_mode": {
    "name": "ipython",
    "version": 3
   },
   "file_extension": ".py",
   "mimetype": "text/x-python",
   "name": "python",
   "nbconvert_exporter": "python",
   "pygments_lexer": "ipython3",
   "version": "3.7.6"
  },
  "latex_envs": {
   "LaTeX_envs_menu_present": true,
   "autoclose": false,
   "autocomplete": true,
   "bibliofile": "biblio.bib",
   "cite_by": "apalike",
   "current_citInitial": 1,
   "eqLabelWithNumbers": true,
   "eqNumInitial": 1,
   "hotkeys": {
    "equation": "Ctrl-E",
    "itemize": "Ctrl-I"
   },
   "labels_anchors": false,
   "latex_user_defs": false,
   "report_style_numbering": false,
   "user_envs_cfg": false
  }
 },
 "nbformat": 4,
 "nbformat_minor": 4
}
