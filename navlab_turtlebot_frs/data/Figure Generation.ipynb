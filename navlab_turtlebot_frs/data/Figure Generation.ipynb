{
 "cells": [
  {
   "cell_type": "code",
   "execution_count": 1,
   "metadata": {},
   "outputs": [],
   "source": [
    "import csv\n",
    "import numpy as np\n",
    "from scipy.stats import multivariate_normal\n",
    "import matplotlib.pyplot as plt\n",
    "from matplotlib import cm\n",
    "from matplotlib.ticker import LinearLocator\n",
    "import imageio\n",
    "import math\n",
    "\n",
    "\n",
    "import sys\n",
    "sys.path.append('/home/derek/jpl_ws/src/navlab_turtlebot/navlab_turtlebot_frs/src')\n",
    "from zonotope import Zonotope\n",
    "from probzonotope import probZonotope\n",
    "\n",
    "%load_ext autoreload\n",
    "%autoreload 2"
   ]
  },
  {
   "cell_type": "markdown",
   "metadata": {},
   "source": [
    "# Visualization"
   ]
  },
  {
   "cell_type": "code",
   "execution_count": 444,
   "metadata": {},
   "outputs": [
    {
     "data": {
      "text/plain": [
       "(1398, 1200)"
      ]
     },
     "metadata": {},
     "output_type": "display_data"
    },
    {
     "data": {
      "text/plain": [
       "(1398, 1200)"
      ]
     },
     "metadata": {},
     "output_type": "display_data"
    },
    {
     "data": {
      "text/plain": [
       "(1398, 400)"
      ]
     },
     "metadata": {},
     "output_type": "display_data"
    },
    {
     "data": {
      "text/plain": [
       "(699,)"
      ]
     },
     "metadata": {},
     "output_type": "display_data"
    },
    {
     "data": {
      "text/plain": [
       "(2097, 6)"
      ]
     },
     "metadata": {},
     "output_type": "display_data"
    },
    {
     "data": {
      "text/plain": [
       "(280299, 11)"
      ]
     },
     "metadata": {},
     "output_type": "display_data"
    },
    {
     "data": {
      "text/plain": [
       "(68881, 15)"
      ]
     },
     "metadata": {},
     "output_type": "display_data"
    },
    {
     "data": {
      "text/plain": [
       "(699, 11)"
      ]
     },
     "metadata": {},
     "output_type": "display_data"
    }
   ],
   "source": [
    "prefix = \"./paper10/\"\n",
    "\n",
    "calodom0 = np.loadtxt(prefix+\"calodom0.csv\", delimiter=\",\")\n",
    "calodom0 = np.delete(calodom0, [182*2,182*2+1,551*2,551*2+1], axis=0) # paper10\n",
    "display(calodom0.shape)\n",
    "\n",
    "calodom1 = np.loadtxt(prefix+\"calodom1.csv\", delimiter=\",\")\n",
    "calodom1 = np.delete(calodom1, [182*2,182*2+1,551*2,551*2+1], axis=0) # paper10\n",
    "display(calodom1.shape)\n",
    "\n",
    "caltraj = np.loadtxt(prefix+\"caltraj.csv\", delimiter=\",\")\n",
    "display(caltraj.shape)\n",
    "\n",
    "calsplit = np.loadtxt(prefix+\"calsplit.txt\", delimiter=\",\")\n",
    "if calsplit.shape == ():\n",
    "    calsplit = calsplit.reshape(1,)\n",
    "display(calsplit.shape)\n",
    "\n",
    "deets = np.loadtxt(prefix+\"simdeets.csv\", delimiter=\",\")\n",
    "deets = np.delete(deets, [314*3,314*3+1,314*3+2], axis=0) # paper10\n",
    "display(deets.shape)\n",
    "\n",
    "first = np.loadtxt(prefix+\"happyfrsfirst.csv\", delimiter=\",\")\n",
    "display(first.shape)\n",
    "\n",
    "second = np.loadtxt(prefix+\"happyfrssecond.csv\", delimiter=\",\")\n",
    "display(second.shape)\n",
    "\n",
    "third = np.loadtxt(prefix+\"happyfrsthird.csv\", delimiter=\",\")\n",
    "display(third.shape)"
   ]
  },
  {
   "cell_type": "code",
   "execution_count": 454,
   "metadata": {},
   "outputs": [
    {
     "name": "stdout",
     "output_type": "stream",
     "text": [
      "0\n",
      "(-3.7831572741901507, -1.7987095799195547)\n",
      "1\n",
      "(-4.558470571273643, 0.14875122838714994)\n",
      "2\n",
      "(-2.3743333314083275, 0.9812384837914307)\n",
      "start (-2.3273031407818774, -1.6983819280535477)\n",
      "goal (-2.642061830999704, -1.3853826492059051)\n",
      "start (-1.4703213458184115, -0.5330003414000735)\n",
      "goal (-3.654743072659541, -2.3649692324850107)\n"
     ]
    },
    {
     "data": {
      "image/png": "[encoded data removed]",
      "text/plain": [
       "<Figure size 1008x864 with 1 Axes>"
      ]
     },
     "metadata": {
      "needs_background": "light"
     },
     "output_type": "display_data"
    }
   ],
   "source": [
    "# [ 27,  73,  84,  96, 189, 223, 349, 357, 359, 396, 407, 446, 485, 492]\n",
    "sim = 96\n",
    "n_obs = 3\n",
    "\n",
    "fig, ax = plt.subplots(figsize=(14,12))\n",
    "ax.set_xlim((-6, 1))\n",
    "ax.set_ylim((-3.5, 3.5))\n",
    "ax.grid()\n",
    "\n",
    "# Plot the odometry\n",
    "ind0 = np.where(calodom0[sim*2,:]!=0)\n",
    "ind1 = np.where(calodom1[sim*2,:]!=0)\n",
    "plt.plot(calodom0[sim*2,:ind0[0][-1]],calodom0[sim*2+1,:ind0[0][-1]])\n",
    "plt.plot(calodom1[sim*2,:ind1[0][-1]],calodom1[sim*2+1,:ind1[0][-1]])\n",
    "\n",
    "# Plot one predicted trajectory\n",
    "ind = np.where(caltraj[sim*2,:]!=0)\n",
    "#plt.plot(caltraj[sim*2,:ind[0][-1]],caltraj[sim*2+1,:ind[0][-1]])\n",
    "\n",
    "# Plot the obstacles\n",
    "for obs in range(n_obs):\n",
    "    ax.add_patch(plt.Circle((deets[sim*3+2,obs*2],deets[sim*3+2,obs*2+1]), .25, color='r'))\n",
    "    print(obs)\n",
    "    print((deets[sim*3+2,obs*2],deets[sim*3+2,obs*2+1]))\n",
    "ax.add_patch(plt.Circle((deets[sim*3,0],deets[sim*3,1]), .105, color='b'))\n",
    "print(\"start\",(deets[sim*3,0],deets[sim*3,1]))\n",
    "ax.add_patch(plt.Circle((deets[sim*3,3],deets[sim*3,4]), .105, color='g'))\n",
    "print(\"goal\",(deets[sim*3,3],deets[sim*3,4]))\n",
    "\n",
    "# Plot the start and goal positions\n",
    "ax.add_patch(plt.Circle((deets[sim*3+1,0],deets[sim*3+1,1]), .105, color='b'))\n",
    "print(\"start\",(deets[sim*3+1,0],deets[sim*3+1,1]))\n",
    "ax.add_patch(plt.Circle((deets[sim*3+1,3],deets[sim*3+1,4]), .105, color='g'))\n",
    "print(\"goal\",(deets[sim*3+1,3],deets[sim*3+1,4]))\n",
    "\n",
    "# Plot the FRS\n",
    "\"\"\"\n",
    "simends = np.where(np.sum(first,axis=1)==0)\n",
    "if sim == 0:\n",
    "    current = first[:simends[0][sim]]\n",
    "else:\n",
    "    current = first[simends[0][sim-1]:simends[0][sim]]\n",
    "for i, line in enumerate(current):\n",
    "    if i % 20 == 0:\n",
    "        z = Zonotope(np.array(line[1:3]).reshape((2,1)),np.array(line[3:]).reshape((4,2)).T)\n",
    "        z.plot(ax,alpha=.01)\n",
    "        \"\"\"\n",
    "\"\"\"\n",
    "simends2 = np.where(np.sum(second,axis=1)==0)\n",
    "print(second.shape)\n",
    "print(simends2)\n",
    "if sim == 0:\n",
    "    current2 = second[:simends2[0][sim]]\n",
    "else:\n",
    "    current2 = second[simends2[0][sim-1]+1:simends2[0][sim]]\n",
    "print(calsplit[sim])\n",
    "start = current2[0,0]\n",
    "#print(current2[:,0])\n",
    "#print(\" \")\n",
    "for i, line in enumerate(current2[:10]):\n",
    "    if i%5 == 0:\n",
    "        t_sim = line[0]-start\n",
    "        p = .1\n",
    "        weight = 1 - .94**(t_sim+1) - .05**(t_sim/3+1)\n",
    "        z = probZonotope(np.array(line[1:3]).reshape((2,1)),np.array(line[3:11]).reshape((4,2)).T,np.array(line[11:]).reshape((2,2)))\n",
    "        #print(p,weight,p*weight)\n",
    "        z = z.get_zono(p*(1-weight))\n",
    "        if i >= calsplit[sim]:\n",
    "            z.plot(ax,color=\"red\",alpha=.01)\n",
    "        else:\n",
    "            z.plot(ax,color=\"blue\",alpha=.01)\n",
    "           \n",
    "        z = probZonotope(np.array(third[sim][1:3]).reshape((2,1)),np.array(third[sim][3:7]).reshape((2,2)).T,np.array(third[sim][7:]).reshape((2,2)))\n",
    "        z = z.get_zono(p*weight)\n",
    "        #print(p*weight)\n",
    "        #print(z)\n",
    "        if i >= calsplit[sim]:\n",
    "            z.plot(ax,color=\"red\",alpha=.01)\n",
    "        else:\n",
    "            z.plot(ax,color=\"blue\",alpha=.01)\n",
    "\"\"\"\n",
    "\n",
    "plt.show()"
   ]
  },
  {
   "cell_type": "code",
   "execution_count": 104,
   "metadata": {},
   "outputs": [
    {
     "name": "stdout",
     "output_type": "stream",
     "text": [
      "217\n",
      "0\n",
      "1\n",
      "2\n",
      "3\n",
      "4\n",
      "5\n",
      "6\n",
      "7\n",
      "8\n",
      "9\n",
      "10\n",
      "11\n",
      "12\n",
      "13\n",
      "14\n",
      "15\n",
      "16\n",
      "17\n",
      "18\n",
      "19\n",
      "20\n",
      "21\n",
      "22\n",
      "23\n",
      "24\n",
      "25\n",
      "26\n",
      "27\n",
      "28\n",
      "29\n",
      "30\n",
      "31\n",
      "32\n",
      "33\n",
      "34\n",
      "35\n",
      "36\n",
      "37\n",
      "38\n",
      "39\n",
      "40\n",
      "41\n",
      "42\n",
      "43\n",
      "44\n",
      "45\n",
      "46\n",
      "47\n",
      "48\n",
      "49\n",
      "50\n",
      "51\n",
      "52\n",
      "53\n",
      "54\n",
      "55\n",
      "56\n",
      "57\n",
      "58\n",
      "59\n",
      "60\n",
      "61\n",
      "62\n",
      "63\n",
      "64\n",
      "65\n",
      "66\n",
      "67\n",
      "68\n",
      "69\n",
      "70\n",
      "71\n",
      "72\n",
      "73\n",
      "74\n",
      "75\n",
      "76\n",
      "77\n",
      "78\n",
      "79\n",
      "80\n",
      "81\n",
      "82\n",
      "83\n",
      "84\n",
      "85\n",
      "86\n",
      "87\n",
      "88\n",
      "89\n",
      "90\n",
      "91\n",
      "92\n",
      "93\n",
      "94\n",
      "95\n",
      "96\n",
      "97\n",
      "98\n",
      "99\n",
      "100\n",
      "101\n",
      "102\n",
      "103\n",
      "104\n",
      "105\n",
      "106\n",
      "107\n",
      "108\n",
      "109\n",
      "110\n",
      "111\n",
      "112\n",
      "113\n",
      "114\n",
      "115\n",
      "116\n",
      "117\n",
      "118\n",
      "119\n",
      "120\n",
      "121\n",
      "122\n",
      "123\n",
      "124\n",
      "125\n",
      "126\n",
      "127\n",
      "128\n",
      "129\n",
      "130\n",
      "131\n",
      "132\n",
      "133\n",
      "134\n",
      "135\n",
      "136\n",
      "137\n",
      "138\n",
      "139\n",
      "140\n",
      "141\n",
      "142\n",
      "143\n",
      "144\n",
      "145\n",
      "146\n",
      "147\n",
      "148\n",
      "149\n",
      "150\n",
      "151\n",
      "152\n",
      "153\n",
      "154\n",
      "155\n",
      "156\n",
      "157\n",
      "158\n",
      "159\n",
      "160\n",
      "161\n",
      "162\n",
      "163\n",
      "164\n",
      "165\n",
      "166\n",
      "167\n",
      "168\n",
      "169\n",
      "170\n",
      "171\n",
      "172\n",
      "173\n",
      "174\n",
      "175\n",
      "176\n",
      "177\n",
      "178\n",
      "179\n",
      "180\n",
      "181\n",
      "182\n",
      "183\n",
      "184\n",
      "185\n",
      "186\n",
      "187\n",
      "188\n",
      "189\n",
      "190\n",
      "191\n",
      "192\n",
      "193\n",
      "194\n",
      "195\n",
      "196\n",
      "197\n",
      "198\n",
      "199\n",
      "200\n",
      "201\n",
      "202\n",
      "203\n",
      "204\n",
      "205\n",
      "206\n",
      "207\n",
      "208\n",
      "209\n",
      "210\n",
      "211\n",
      "212\n",
      "213\n",
      "214\n",
      "215\n",
      "216\n"
     ]
    }
   ],
   "source": [
    "def gen_frame(j):\n",
    "    # Visualize setup\n",
    "    sim = 5\n",
    "    n_obs = 3\n",
    "\n",
    "    fig, ax = plt.subplots(figsize=(14,12))\n",
    "    ax.set_xlim((-6, 1))\n",
    "    ax.set_ylim((-3.5, 3.5))\n",
    "    ax.grid()\n",
    "\n",
    "    # Plot the odometry\n",
    "    ax.add_patch(plt.Circle((calodom0[sim*2,j],calodom0[sim*2+1,j]), .105, color='black'))\n",
    "    ax.add_patch(plt.Circle((calodom1[sim*2,j],calodom1[sim*2+1,j]), .105, color='black'))\n",
    "\n",
    "    # Plot one predicted trajectory\n",
    "    ind = np.where(caltraj[sim*2,:]!=0)\n",
    "    plt.plot(caltraj[sim*2,:ind[0][-1]],caltraj[sim*2+1,:ind[0][-1]])\n",
    "\n",
    "    # Plot the obstacles\n",
    "    for obs in range(n_obs):\n",
    "        ax.add_patch(plt.Circle((deets[sim*3+2,obs*2],deets[sim*3+2,obs*2+1]), .25, color='r'))\n",
    "    ax.add_patch(plt.Circle((deets[sim*3,0],deets[sim*3,1]), .105, color='b'))\n",
    "    ax.add_patch(plt.Circle((deets[sim*3,3],deets[sim*3,4]), .105, color='g'))\n",
    "\n",
    "    # Plot the start and goal positions\n",
    "    ax.add_patch(plt.Circle((deets[sim*3+1,0],deets[sim*3+1,1]), .105, color='b'))\n",
    "    ax.add_patch(plt.Circle((deets[sim*3+1,3],deets[sim*3+1,4]), .105, color='g'))\n",
    "\n",
    "    \"\"\"\n",
    "    # Plot the FRS\n",
    "    simends = np.where(np.sum(first,axis=1)==0)\n",
    "    if sim == 0:\n",
    "        current = first[:simends[0][sim]]\n",
    "    else:\n",
    "        current = first[simends[0][sim-1]:simends[0][sim]]\n",
    "    line = current[round(j/3)]\n",
    "    z = Zonotope(np.array(line[1:3]).reshape((2,1)),np.array(line[3:]).reshape((4,2)).T)\n",
    "    z.plot(ax,alpha=.05)\"\"\"\n",
    "        \n",
    "    \"\"\"\n",
    "    simends2 = np.where(np.sum(second,axis=1)==0)\n",
    "    if sim == 0:\n",
    "        current2 = second[:simends2[0][sim]]\n",
    "    else:\n",
    "        current2 = second[simends2[0][sim-1]+1:simends2[0][sim]]\n",
    "    start = current2[0,0]\n",
    "    if round(j/3) < len(current2):\n",
    "        line = current2[round(j/3)]\n",
    "    else:\n",
    "        line = current2[-1]\n",
    "    t_sim = line[0]-start\n",
    "    p = .9\n",
    "    weight = 1 - .94**(t_sim+1) - .05**(t_sim/3+1)\n",
    "    z = probZonotope(np.array(line[1:3]).reshape((2,1)),np.array(line[3:11]).reshape((4,2)).T,np.array(line[11:]).reshape((2,2)))\n",
    "    z = z.get_zono(p*(1-weight))\n",
    "    if False: #j >= calsplit[sim]:\n",
    "        z.plot(ax,color=\"red\",alpha=.05)\n",
    "    else:\n",
    "        z.plot(ax,color=\"blue\",alpha=.05)\n",
    "      \n",
    "    if round(j/3)+50 < len(current2):\n",
    "        line = current2[round(j/3)+50]\n",
    "        t_sim = line[0]-start\n",
    "        z = probZonotope(np.array(line[1:3]).reshape((2,1)),np.array(line[3:11]).reshape((4,2)).T,np.array(line[11:]).reshape((2,2)))\n",
    "        z = z.get_zono(p*(1-weight))\n",
    "        if False: #j >= calsplit[sim]:\n",
    "            z.plot(ax,color=\"red\",alpha=.05)\n",
    "        else:\n",
    "            z.plot(ax,color=\"blue\",alpha=.05)\n",
    "\n",
    "    z = probZonotope(np.array(third[sim][1:3]).reshape((2,1)),np.array(third[sim][3:7]).reshape((2,2)).T,np.array(third[sim][7:]).reshape((2,2)))\n",
    "    z = z.get_zono(p*weight)\n",
    "    if False: #j >= calsplit[sim]:\n",
    "        z.plot(ax,color=\"red\",alpha=.05)\n",
    "    else:\n",
    "        z.plot(ax,color=\"blue\",alpha=.05)\"\"\"\n",
    "\n",
    "    # Used to return the plot as an image rray\n",
    "    fig.canvas.draw()       # draw the canvas, cache the renderer\n",
    "    image = np.frombuffer(fig.canvas.tostring_rgb(), dtype='uint8')\n",
    "    image  = image.reshape(fig.canvas.get_width_height()[::-1] + (3,))\n",
    "    plt.close(\"all\")\n",
    "    print(j)\n",
    "    return image\n",
    "\n",
    "kwargs_write = {'fps':1.0, 'quantizer':'nq'}\n",
    "#final version should be 90x160px\n",
    "print(np.where(calodom0[0,:]!=0)[0][-1])\n",
    "imageio.mimsave('./prettyviznewandimprovedcontrol.gif', [gen_frame(j) for j in range(np.where(calodom0[0,:]!=0)[0][-1])], fps=30)"
   ]
  },
  {
   "cell_type": "markdown",
   "metadata": {
    "heading_collapsed": true
   },
   "source": [
    "# Happy FRS"
   ]
  },
  {
   "cell_type": "code",
   "execution_count": 106,
   "metadata": {
    "hidden": true
   },
   "outputs": [
    {
     "data": {
      "text/plain": [
       "(3208, 11)"
      ]
     },
     "metadata": {},
     "output_type": "display_data"
    },
    {
     "data": {
      "text/plain": [
       "(576, 15)"
      ]
     },
     "metadata": {},
     "output_type": "display_data"
    },
    {
     "data": {
      "text/plain": [
       "(8, 11)"
      ]
     },
     "metadata": {},
     "output_type": "display_data"
    }
   ],
   "source": [
    "first = np.loadtxt(\"happyfrsfirst.csv\", delimiter=\",\")\n",
    "display(first.shape)\n",
    "\n",
    "second = np.loadtxt(\"happyfrssecond.csv\", delimiter=\",\")\n",
    "display(second.shape)\n",
    "\n",
    "third = np.loadtxt(\"happyfrsthird.csv\", delimiter=\",\")\n",
    "display(third.shape)"
   ]
  },
  {
   "cell_type": "code",
   "execution_count": 316,
   "metadata": {},
   "outputs": [
    {
     "name": "stdout",
     "output_type": "stream",
     "text": [
      "[51.715 51.815 51.915 52.015 52.115 52.215 52.315 52.415 52.515 52.615\n",
      " 52.715 52.815 52.915 53.015 53.115 53.215 53.315 53.415 53.515 53.615\n",
      " 53.715 53.815 53.915 54.015 54.115 54.215 54.315 54.415 54.515 54.615\n",
      " 54.715 54.815 54.915 55.015 55.115 55.215 55.315 55.415 55.515 55.615\n",
      " 55.715 55.815 55.915 56.015 56.115 56.215 56.315 56.415 56.515 56.615\n",
      " 56.715 56.815 56.915 57.015 57.115 57.215 57.315 57.415 57.515 57.615\n",
      " 57.715 57.815 57.915 58.015 58.115 58.215 58.315 58.415 58.515 58.615\n",
      " 58.715 58.815 58.915 59.015 59.115 59.215 59.315 59.415 59.515 59.615\n",
      " 59.715 59.815 59.915 60.015 60.115 60.215 60.315 60.415 60.515 60.615\n",
      " 60.715 60.815 60.915 61.015 61.115 61.215 61.315 61.415 61.515 61.615\n",
      " 61.715 61.815 61.915 62.015 62.115 62.215 62.315 62.415 62.515 62.615\n",
      " 62.715]\n"
     ]
    }
   ],
   "source": [
    "print(second[:,0])"
   ]
  },
  {
   "cell_type": "code",
   "execution_count": 122,
   "metadata": {
    "hidden": true
   },
   "outputs": [
    {
     "name": "stdout",
     "output_type": "stream",
     "text": [
      "[[ 2.2   -0.119 -2.469  0.105  0.     0.     0.105  1.     0.     0.\n",
      "   1.   ]\n",
      " [ 2.4   -0.119 -2.469  0.105  0.     0.     0.105  1.     0.     0.\n",
      "   1.   ]\n",
      " [ 2.2   -0.119 -2.469  0.105  0.     0.     0.105  1.     0.     0.\n",
      "   1.   ]\n",
      " [ 2.3   -0.119 -2.469  0.105  0.     0.     0.105  1.     0.     0.\n",
      "   1.   ]\n",
      " [ 2.402 -0.119 -2.469  0.105  0.     0.     0.105  1.     0.     0.\n",
      "   1.   ]\n",
      " [ 2.301 -0.119 -2.469  0.105  0.     0.     0.105  1.     0.     0.\n",
      "   1.   ]\n",
      " [ 2.506 -0.119 -2.469  0.105  0.     0.     0.105  1.     0.     0.\n",
      "   1.   ]\n",
      " [ 2.4   -0.119 -2.469  0.105  0.     0.     0.105  1.     0.     0.\n",
      "   1.   ]]\n",
      "[-0.119 -2.469]\n",
      "[[0.105 0.    1.    0.   ]\n",
      " [0.    0.105 0.    1.   ]]\n"
     ]
    },
    {
     "ename": "ValueError",
     "evalue": "operands could not be broadcast together with shapes (11,) (200,200) ",
     "output_type": "error",
     "traceback": [
      "\u001b[0;31m---------------------------------------------------------------------------\u001b[0m",
      "\u001b[0;31mValueError\u001b[0m                                Traceback (most recent call last)",
      "\u001b[0;32m<ipython-input-122-00a3f1089a88>\u001b[0m in \u001b[0;36m<module>\u001b[0;34m\u001b[0m\n\u001b[1;32m     16\u001b[0m \u001b[0;31m#img = (ts * .01) * fault.pdf(np.dstack((viz[0], viz[1]))) #+ \\\u001b[0m\u001b[0;34m\u001b[0m\u001b[0;34m\u001b[0m\u001b[0;34m\u001b[0m\u001b[0m\n\u001b[1;32m     17\u001b[0m \u001b[0;31m#      (1-ts*.01) * no_fault.pdf(np.dstack((viz[0], viz[1]))) + (ts * .01) * fault.pdf(np.dstack((viz[0], viz[1])))\u001b[0m\u001b[0;34m\u001b[0m\u001b[0;34m\u001b[0m\u001b[0;34m\u001b[0m\u001b[0m\n\u001b[0;32m---> 18\u001b[0;31m \u001b[0mimg\u001b[0m \u001b[0;34m=\u001b[0m \u001b[0;34m(\u001b[0m\u001b[0;36m1\u001b[0m\u001b[0;34m-\u001b[0m\u001b[0mts\u001b[0m\u001b[0;34m*\u001b[0m\u001b[0;36m.01\u001b[0m\u001b[0;34m)\u001b[0m \u001b[0;34m*\u001b[0m \u001b[0mno_fault\u001b[0m\u001b[0;34m.\u001b[0m\u001b[0mpdf\u001b[0m\u001b[0;34m(\u001b[0m\u001b[0mnp\u001b[0m\u001b[0;34m.\u001b[0m\u001b[0mdstack\u001b[0m\u001b[0;34m(\u001b[0m\u001b[0;34m(\u001b[0m\u001b[0mviz\u001b[0m\u001b[0;34m[\u001b[0m\u001b[0;36m0\u001b[0m\u001b[0;34m]\u001b[0m\u001b[0;34m,\u001b[0m \u001b[0mviz\u001b[0m\u001b[0;34m[\u001b[0m\u001b[0;36m1\u001b[0m\u001b[0;34m]\u001b[0m\u001b[0;34m)\u001b[0m\u001b[0;34m)\u001b[0m\u001b[0;34m)\u001b[0m\u001b[0;34m\u001b[0m\u001b[0;34m\u001b[0m\u001b[0m\n\u001b[0m\u001b[1;32m     19\u001b[0m \u001b[0mplt\u001b[0m\u001b[0;34m.\u001b[0m\u001b[0mcontourf\u001b[0m\u001b[0;34m(\u001b[0m\u001b[0mviz\u001b[0m\u001b[0;34m[\u001b[0m\u001b[0;36m0\u001b[0m\u001b[0;34m]\u001b[0m\u001b[0;34m,\u001b[0m\u001b[0mviz\u001b[0m\u001b[0;34m[\u001b[0m\u001b[0;36m1\u001b[0m\u001b[0;34m]\u001b[0m\u001b[0;34m,\u001b[0m\u001b[0mimg\u001b[0m\u001b[0;34m,\u001b[0m \u001b[0mvmin\u001b[0m\u001b[0;34m=\u001b[0m\u001b[0;36m0\u001b[0m\u001b[0;34m,\u001b[0m\u001b[0mvmax\u001b[0m\u001b[0;34m=\u001b[0m\u001b[0;36m.2\u001b[0m\u001b[0;34m)\u001b[0m\u001b[0;34m\u001b[0m\u001b[0;34m\u001b[0m\u001b[0m\n\u001b[1;32m     20\u001b[0m \u001b[0mplt\u001b[0m\u001b[0;34m.\u001b[0m\u001b[0mcolorbar\u001b[0m\u001b[0;34m(\u001b[0m\u001b[0;34m)\u001b[0m\u001b[0;34m\u001b[0m\u001b[0;34m\u001b[0m\u001b[0m\n",
      "\u001b[0;31mValueError\u001b[0m: operands could not be broadcast together with shapes (11,) (200,200) "
     ]
    },
    {
     "data": {
      "image/png": "[encoded data removed]",
      "text/plain": [
       "<Figure size 504x432 with 1 Axes>"
      ]
     },
     "metadata": {
      "needs_background": "light"
     },
     "output_type": "display_data"
    }
   ],
   "source": [
    "# Visualize setup\n",
    "fig, ax = plt.subplots(figsize=(7,6))\n",
    "ax.set_xlim((-10, 10))\n",
    "ax.set_ylim((-10, 10))\n",
    "ax.grid()\n",
    "\n",
    "ts = third[0]\n",
    "viz = np.mgrid[-10:10:.1, -10:10:.1]\n",
    "#print(second[-1,1:3])\n",
    "#print(np.vstack((second[-1,5:7],second[-1,9:11])))\n",
    "#no_fault = multivariate_normal(mean=second[-1,1:3], cov=np.eye(2))\n",
    "print(third)\n",
    "print(third[0,1:3])\n",
    "print(third[0,3:].reshape((4,2)).T)\n",
    "fault = multivariate_normal(mean=third[2,1:3], cov=third[0,7:].reshape((2,2)).T)\n",
    "#img = (ts * .01) * fault.pdf(np.dstack((viz[0], viz[1]))) #+ \\\n",
    "#      (1-ts*.01) * no_fault.pdf(np.dstack((viz[0], viz[1]))) + (ts * .01) * fault.pdf(np.dstack((viz[0], viz[1])))\n",
    "img = (1-ts*.01) * no_fault.pdf(np.dstack((viz[0], viz[1])))\n",
    "plt.contourf(viz[0],viz[1],img, vmin=0,vmax=.2)\n",
    "plt.colorbar()\n",
    "ax.set_title(\"Fault-based FRS PDF\", fontsize=16)\n",
    "\n",
    "plt.show()"
   ]
  },
  {
   "cell_type": "code",
   "execution_count": 253,
   "metadata": {
    "hidden": true
   },
   "outputs": [
    {
     "name": "stdout",
     "output_type": "stream",
     "text": [
      "[-4.99996282e-02  3.72529030e-07]\n",
      "[[1. 0.]\n",
      " [0. 1.]]\n",
      "0.717785501764212\n",
      "0.027138922751031403\n",
      "0.6906465790131806\n"
     ]
    }
   ],
   "source": [
    "print(third[1:3])\n",
    "print(np.vstack((third[5:7],third[9:11])))\n",
    "fault = multivariate_normal(mean=third[1:3], cov=np.vstack((third[5:7],third[9:11])))\n",
    "print(fault.cdf(np.array([1,1])))\n",
    "print(fault.cdf(np.array([-1,-1])))\n",
    "print(fault.cdf(np.array([1,1]))-fault.cdf(np.array([-1,-1])))"
   ]
  },
  {
   "cell_type": "code",
   "execution_count": 26,
   "metadata": {
    "hidden": true
   },
   "outputs": [
    {
     "name": "stdout",
     "output_type": "stream",
     "text": [
      "0\n",
      "1\n",
      "2\n",
      "3\n",
      "4\n",
      "5\n",
      "6\n",
      "7\n",
      "8\n",
      "9\n",
      "10\n",
      "11\n",
      "12\n",
      "13\n",
      "14\n",
      "15\n",
      "16\n",
      "17\n",
      "18\n",
      "19\n",
      "20\n",
      "21\n",
      "22\n",
      "23\n",
      "24\n",
      "25\n",
      "26\n",
      "27\n",
      "28\n",
      "29\n",
      "30\n",
      "31\n",
      "32\n",
      "33\n",
      "34\n",
      "35\n",
      "36\n",
      "37\n",
      "38\n",
      "39\n",
      "40\n",
      "41\n",
      "42\n",
      "43\n",
      "44\n",
      "45\n",
      "46\n",
      "47\n",
      "48\n",
      "49\n",
      "50\n",
      "51\n",
      "52\n",
      "53\n",
      "54\n",
      "55\n",
      "56\n",
      "57\n",
      "58\n",
      "59\n",
      "60\n",
      "61\n",
      "62\n",
      "63\n",
      "64\n",
      "65\n",
      "66\n",
      "67\n",
      "68\n",
      "69\n",
      "70\n",
      "71\n",
      "72\n",
      "73\n",
      "74\n",
      "75\n",
      "76\n",
      "77\n",
      "78\n",
      "79\n",
      "80\n",
      "81\n",
      "82\n",
      "83\n",
      "84\n",
      "85\n",
      "86\n",
      "87\n",
      "88\n",
      "89\n",
      "90\n",
      "91\n",
      "92\n",
      "93\n",
      "94\n",
      "95\n",
      "96\n",
      "97\n",
      "98\n",
      "99\n",
      "100\n",
      "101\n",
      "102\n",
      "103\n",
      "104\n",
      "105\n",
      "106\n",
      "107\n",
      "108\n",
      "109\n",
      "110\n"
     ]
    }
   ],
   "source": [
    "def gen_frame(j):\n",
    "    # Visualize setup\n",
    "    fig, ax = plt.subplots(figsize=(7,6))\n",
    "    ax.set_xlim((-5, 5))\n",
    "    ax.set_ylim((-5, 5))\n",
    "    ax.grid()\n",
    "\n",
    "    ts = second[j,0]\n",
    "    viz = np.mgrid[-5:5:.1, -5:5:.1]\n",
    "    no_fault = multivariate_normal(mean=second[j,1:3], cov=np.eye(2))\n",
    "    fault = multivariate_normal(mean=third[1:3], cov=np.vstack((third[5:7],third[9:11])))\n",
    "    img = (1-ts*.01) * no_fault.pdf(np.dstack((viz[0], viz[1])))\n",
    "    plt.contourf(viz[0],viz[1],img,vmin=0,vmax=.15)\n",
    "    ax.set_title(\"Intent-based FRS PDF\", fontsize=16)\n",
    "    plt.colorbar()\n",
    "\n",
    "    # Used to return the plot as an image rray\n",
    "    fig.canvas.draw()       # draw the canvas, cache the renderer\n",
    "    image = np.frombuffer(fig.canvas.tostring_rgb(), dtype='uint8')\n",
    "    image  = image.reshape(fig.canvas.get_width_height()[::-1] + (3,))\n",
    "    plt.close(\"all\")\n",
    "    print(j)\n",
    "    return image\n",
    "\n",
    "kwargs_write = {'fps':1.0, 'quantizer':'nq'}\n",
    "#final version should be 90x160px\n",
    "imageio.mimsave('./intentfrs.gif', [gen_frame(j) for j in range(len(second))], fps=20) #len(Ps[:,0])"
   ]
  },
  {
   "cell_type": "code",
   "execution_count": 291,
   "metadata": {
    "scrolled": true
   },
   "outputs": [
    {
     "name": "stdout",
     "output_type": "stream",
     "text": [
      "[-4.99996282e-02  3.72529030e-07]\n",
      "[[1. 0.]\n",
      " [0. 1.]]\n",
      "(100, 100)\n"
     ]
    },
    {
     "data": {
      "image/png": "[encoded data removed]",
      "text/plain": [
       "<Figure size 504x432 with 1 Axes>"
      ]
     },
     "metadata": {
      "needs_background": "light"
     },
     "output_type": "display_data"
    }
   ],
   "source": [
    "# Visualize setup\n",
    "fig, ax = plt.subplots(figsize=(7,6),subplot_kw={\"projection\": \"3d\"})\n",
    "ax.set_xlim((-5, 5))\n",
    "ax.set_ylim((-5, 5))\n",
    "ax.grid()\n",
    "\n",
    "ts = third[0]\n",
    "X = np.arange(-5,5,.1)\n",
    "Y = np.arange(-5,5,.1)\n",
    "X, Y = np.meshgrid(X,Y)\n",
    "print(third[1:3])\n",
    "print(np.vstack((third[5:7],third[9:11])))\n",
    "fault = multivariate_normal(mean=third[1:3], cov=np.vstack((third[5:7],third[9:11])))\n",
    "img = fault.pdf(np.dstack((X, Y)))\n",
    "print(img.shape)\n",
    "surf = ax.plot_surface(X,Y,img,cmap=cm.inferno, linewidth=0, antialiased=False)\n",
    "#plt.contourf(viz[0],viz[1],img, vmin=0,vmax=.2)\n",
    "\n",
    "ax.set_title(\"Fault-based FRS PDF\", fontsize=20)\n",
    "ax.zaxis.set_major_locator(LinearLocator(10))\n",
    "ax.zaxis.set_major_formatter('{x:.02f}')\n",
    "\n",
    "#fig.colorbar(surf,shrink=0.5,aspect=5)\n",
    "\n",
    "plt.show()"
   ]
  },
  {
   "cell_type": "code",
   "execution_count": 321,
   "metadata": {},
   "outputs": [
    {
     "name": "stdout",
     "output_type": "stream",
     "text": [
      "0.0\n",
      "0\n",
      "0.008000000000000115\n",
      "1\n",
      "0.01600000000000023\n",
      "2\n",
      "0.02399999999999977\n",
      "3\n",
      "0.03199999999999989\n",
      "4\n",
      "0.04\n",
      "5\n",
      "0.04800000000000011\n",
      "6\n",
      "0.05600000000000023\n",
      "7\n",
      "0.06399999999999978\n",
      "8\n",
      "0.07199999999999988\n",
      "9\n",
      "0.08\n",
      "10\n",
      "0.08800000000000012\n",
      "11\n",
      "0.09600000000000022\n",
      "12\n",
      "0.10399999999999977\n",
      "13\n",
      "0.11199999999999989\n",
      "14\n",
      "0.12\n",
      "15\n",
      "0.1280000000000001\n",
      "16\n",
      "0.13600000000000023\n",
      "17\n",
      "0.14399999999999977\n",
      "18\n",
      "0.15199999999999989\n",
      "19\n",
      "0.16\n",
      "20\n",
      "0.16800000000000012\n",
      "21\n",
      "0.17600000000000024\n",
      "22\n",
      "0.18399999999999977\n",
      "23\n",
      "0.1919999999999999\n",
      "24\n",
      "0.2\n",
      "25\n",
      "0.20800000000000013\n",
      "26\n",
      "0.21600000000000022\n",
      "27\n",
      "0.22399999999999978\n",
      "28\n",
      "0.2319999999999999\n",
      "29\n",
      "0.24\n",
      "30\n",
      "0.2480000000000001\n",
      "31\n",
      "0.2560000000000002\n",
      "32\n",
      "0.2639999999999998\n",
      "33\n",
      "0.2719999999999999\n",
      "34\n",
      "0.28\n",
      "35\n",
      "0.28800000000000014\n",
      "36\n",
      "0.2960000000000002\n",
      "37\n",
      "0.30399999999999977\n",
      "38\n",
      "0.3119999999999999\n",
      "39\n",
      "0.32\n",
      "40\n",
      "0.3280000000000001\n",
      "41\n",
      "0.33600000000000024\n",
      "42\n",
      "0.3439999999999998\n",
      "43\n",
      "0.35199999999999987\n",
      "44\n",
      "0.36\n",
      "45\n",
      "0.3680000000000001\n",
      "46\n",
      "0.3760000000000002\n",
      "47\n",
      "0.3839999999999998\n",
      "48\n",
      "0.3919999999999999\n",
      "49\n",
      "0.4\n",
      "50\n",
      "0.40800000000000014\n",
      "51\n",
      "0.41600000000000026\n",
      "52\n",
      "0.42399999999999977\n",
      "53\n",
      "0.4319999999999999\n",
      "54\n",
      "0.44\n",
      "55\n",
      "0.4480000000000001\n",
      "56\n",
      "0.45600000000000024\n",
      "57\n",
      "0.4639999999999998\n",
      "58\n",
      "0.4719999999999999\n",
      "59\n",
      "0.48\n",
      "60\n",
      "0.4880000000000001\n",
      "61\n",
      "0.4960000000000002\n",
      "62\n",
      "0.5039999999999998\n",
      "63\n",
      "0.5119999999999999\n",
      "64\n",
      "0.52\n",
      "65\n",
      "0.5280000000000001\n",
      "66\n",
      "0.5360000000000003\n",
      "67\n",
      "0.5439999999999998\n",
      "68\n",
      "0.5519999999999999\n",
      "69\n",
      "0.56\n",
      "70\n",
      "0.5680000000000002\n",
      "71\n",
      "0.5760000000000003\n",
      "72\n",
      "0.5839999999999997\n",
      "73\n",
      "0.5919999999999999\n",
      "74\n",
      "0.6\n",
      "75\n",
      "0.6080000000000001\n",
      "76\n",
      "0.6160000000000002\n",
      "77\n",
      "0.6239999999999998\n",
      "78\n",
      "0.6319999999999999\n",
      "79\n",
      "0.64\n",
      "80\n",
      "0.6480000000000001\n",
      "81\n",
      "0.6560000000000002\n",
      "82\n",
      "0.6639999999999998\n",
      "83\n",
      "0.6719999999999999\n",
      "84\n",
      "0.68\n",
      "85\n",
      "0.6880000000000002\n",
      "86\n",
      "0.6960000000000003\n",
      "87\n",
      "0.7039999999999997\n",
      "88\n",
      "0.7119999999999999\n",
      "89\n",
      "0.72\n",
      "90\n",
      "0.7280000000000001\n",
      "91\n",
      "0.7360000000000002\n",
      "92\n",
      "0.7439999999999998\n",
      "93\n",
      "0.7519999999999999\n",
      "94\n",
      "0.76\n",
      "95\n",
      "0.7680000000000001\n",
      "96\n",
      "0.7760000000000002\n",
      "97\n",
      "0.7839999999999998\n",
      "98\n",
      "0.7919999999999999\n",
      "99\n",
      "0.8\n",
      "100\n",
      "0.8080000000000002\n",
      "101\n",
      "0.8160000000000003\n",
      "102\n",
      "0.8239999999999998\n",
      "103\n",
      "0.8319999999999999\n",
      "104\n",
      "0.84\n",
      "105\n",
      "0.8480000000000001\n",
      "106\n",
      "0.8560000000000002\n",
      "107\n",
      "0.8639999999999998\n",
      "108\n",
      "0.8719999999999999\n",
      "109\n",
      "0.88\n",
      "110\n"
     ]
    }
   ],
   "source": [
    "def gen_frame(j):\n",
    "    # Visualize setup\n",
    "    fig, ax = plt.subplots(figsize=(7,6),subplot_kw={\"projection\": \"3d\"})\n",
    "    ax.set_xlim((-1, 4))\n",
    "    ax.set_ylim((-1, 4))\n",
    "    ax.grid()\n",
    "\n",
    "    ts = second[j,0]-second[0,0]\n",
    "    X = np.arange(-1,4,.1)\n",
    "    Y = np.arange(-1,4,.1)\n",
    "    X,Y = np.meshgrid(X,Y)\n",
    "    no_fault = multivariate_normal(mean=second[j,1:3], cov=np.eye(2)*(-.0001*j*(j-len(second))+.001))\n",
    "    fault = multivariate_normal(mean=third[1:3], cov=np.vstack((third[5:7],third[9:11])))\n",
    "\n",
    "    \n",
    "    img = (1-ts*.08) * no_fault.pdf(np.dstack((X, Y))) + (ts * .08) * fault.pdf(np.dstack((X, Y)))\n",
    "    print(ts*.08)\n",
    "    \n",
    "    #img = no_fault.pdf(np.dstack((X, Y)))\n",
    "    surf = ax.plot_surface(X,Y,img,cmap=cm.inferno,linewidth=0,antialiased=False)\n",
    "    ax.set_title(\"Intent-based FRS PDF\", fontsize=20)\n",
    "    ax.zaxis.set_major_locator(LinearLocator(10))\n",
    "    ax.zaxis.set_major_formatter('{x:.02f}')\n",
    "\n",
    "    # Used to return the plot as an image rray\n",
    "    fig.canvas.draw()       # draw the canvas, cache the renderer\n",
    "    image = np.frombuffer(fig.canvas.tostring_rgb(), dtype='uint8')\n",
    "    image  = image.reshape(fig.canvas.get_width_height()[::-1] + (3,))\n",
    "    plt.close(\"all\")\n",
    "    print(j)\n",
    "    return image\n",
    "\n",
    "kwargs_write = {'fps':1.0, 'quantizer':'nq'}\n",
    "#final version should be 90x160px\n",
    "imageio.mimsave('./fullfrs3d.gif', [gen_frame(j) for j in range(len(second))], fps=20) #len(Ps[:,0])"
   ]
  },
  {
   "cell_type": "markdown",
   "metadata": {},
   "source": [
    "# Calibration"
   ]
  },
  {
   "cell_type": "code",
   "execution_count": 139,
   "metadata": {},
   "outputs": [
    {
     "name": "stdout",
     "output_type": "stream",
     "text": [
      "3\n"
     ]
    },
    {
     "data": {
      "text/plain": [
       "(2000, 1200)"
      ]
     },
     "metadata": {},
     "output_type": "display_data"
    },
    {
     "name": "stdout",
     "output_type": "stream",
     "text": [
      "3\n"
     ]
    },
    {
     "data": {
      "text/plain": [
       "(2000, 1200)"
      ]
     },
     "metadata": {},
     "output_type": "display_data"
    },
    {
     "data": {
      "text/plain": [
       "(2000, 400)"
      ]
     },
     "metadata": {},
     "output_type": "display_data"
    },
    {
     "data": {
      "text/plain": [
       "(1000,)"
      ]
     },
     "metadata": {},
     "output_type": "display_data"
    },
    {
     "name": "stdout",
     "output_type": "stream",
     "text": [
      "1\n"
     ]
    },
    {
     "data": {
      "text/plain": [
       "(3000, 6)"
      ]
     },
     "metadata": {},
     "output_type": "display_data"
    }
   ],
   "source": [
    "\"\"\"badrows = [0,2,8,9,10,15,26,34,43,44,46,57,61,62,76,88,90,99,104,109,115,117,122,128,141,143,154,162,169,170, \\\n",
    "           190,192,198,201,210,214,216,217,223,235,240,247,249,255,263,265,268,276,281,284,295,303,304,307, \\\n",
    "           312,322,332,341,342,350,358,360,365,369,379,384,401,409,411,415,421,422,431,452,460,461,480,487, \\\n",
    "           498,505,525,526,527,538,539,540,542,546,551,559,561,565,567,568,582,585,587,598,603,605,615,617, \\\n",
    "           619,622,625,631,638,641,644,652,654,660,663,665,671,672,685,697,702,704,705,709,712,721,729,730, \\\n",
    "           746,747,750,764,769,775,778,788,789,791,805,815,822,827,835,837,840,843,846,864,869,875,876,882, \\\n",
    "           886,888,896,905,911,923,928,936,937,939,941,951]\"\"\"\n",
    "badrows = [361,547,806]\n",
    "print(len(badrows))\n",
    "dellist = []\n",
    "for row in badrows:\n",
    "    dellist.append(row*2)\n",
    "    dellist.append(row*2+1)\n",
    "\n",
    "calodom0 = np.loadtxt(\"./papercal/calodom0.csv\", delimiter=\",\")\n",
    "calodom0 = np.delete(calodom0, dellist, axis=0)\n",
    "display(calodom0.shape)\n",
    "\n",
    "\"\"\"badrows = [0,2,8,9,10,15,26,34,43,44,46,57,61,62,76,88,90,99,104,109,115,117,122,128,141,143,154,162,169,170, \\\n",
    "           190,192,198,201,210,214,216,217,223,235,240,247,249,255,263,265,268,276,281,284,295,303,304,307, \\\n",
    "           312,322,332,341,342,350,358,360,365,369,379,384,401,409,411,415,421,422,431,452,460,461,480,487, \\\n",
    "           498,505,525,526,527,538,539,540,542,546,551,559,561,565,567,568,582,585,587,598,603,605,615,617, \\\n",
    "           619,622,625,631,638,641,644,652,654,660,663,665,671,672,685,697,702,704,705,709,712,721,729,730, \\\n",
    "           746,747,750,761,765,770,776,779,789,790,792,806,816,823,828,836,838,841,844,847,865,870,876,877, \\\n",
    "           883,887,889,897,906,912,924,929,937,938,940,942,952]\"\"\"\n",
    "badrows = [361,547,806]\n",
    "print(len(badrows))\n",
    "dellist = []\n",
    "for row in badrows:\n",
    "    dellist.append(row*2)\n",
    "    dellist.append(row*2+1)\n",
    "\n",
    "calodom1 = np.loadtxt(\"./papercal/calodom1.csv\", delimiter=\",\")\n",
    "calodom1 = np.delete(calodom1, dellist, axis=0)\n",
    "display(calodom1.shape)\n",
    "\n",
    "\"\"\"badrows = [6,633]\n",
    "dellist = []\n",
    "for row in badrows:\n",
    "    dellist.append(row*2)\n",
    "    dellist.append(row*2+1)\"\"\"\n",
    "caltraj = np.loadtxt(\"./papercal/caltraj.csv\", delimiter=\",\")\n",
    "#caltraj = np.delete(caltraj, dellist, axis=0)\n",
    "display(caltraj.shape)\n",
    "\n",
    "calsplit = np.loadtxt(\"./papercal/calsplit.txt\", delimiter=\",\")\n",
    "#calsplit = np.delete(calsplit, badrows, axis=0)\n",
    "display(calsplit.shape)\n",
    "\n",
    "\"\"\"badrows2 = [0,7,8,9,14,25,33,42,43,45,56,60,61,75,87,89,98,103,108,114,116,121,127,140,142,153,161,168,169,189, \\\n",
    "            191,197,200,209,213,215,216,222,234,239,246,248,254,262,264,267, \\\n",
    "            273,276,281,284,295,303,304,307,312,322,332,341,342,350,358,360, \\\n",
    "            365,366,370,380,385,402,410,412,416,422,423,432,453,461,462,481,488,499,506,526,527,528,539,540,\\\n",
    "            541,543,547,552,560,562,566,568,569,583,586,588,599,604,606,616,618,620,623,626,632,639,642,645,\\\n",
    "            653,655,661,664,666,672,673,686,698,703,705,706,710,713,722,730,731,747,748,751, \\\n",
    "            762,766,771,777,780,790,791,793,807,817,824,829,837,839,842,845,848,866,871,877,878,884,888,890,\\\n",
    "            898,907,913,925,930,938,939,941,943,953]\"\"\"\n",
    "badrows2 = [546]\n",
    "print(len(badrows2))\n",
    "dellist = []\n",
    "for row in badrows2:\n",
    "    dellist.append(row*3)\n",
    "    dellist.append(row*3+1)\n",
    "    dellist.append(row*3+2)\n",
    "deets = np.loadtxt(\"./papercal/simdeets.csv\", delimiter=\",\")\n",
    "deets = np.delete(deets, dellist, axis=0)\n",
    "display(deets.shape)"
   ]
  },
  {
   "cell_type": "code",
   "execution_count": 140,
   "metadata": {},
   "outputs": [
    {
     "name": "stdout",
     "output_type": "stream",
     "text": [
      "The trajectory start point matches the actual start point 1000 times out of 1000.\n",
      "Fraction: 1.0\n",
      "(array([], dtype=int64),)\n",
      "The odom start point matches the actual start point 1000 times out of 1000.\n",
      "Fraction: 1.0\n",
      "(array([], dtype=int64),)\n"
     ]
    }
   ],
   "source": [
    "# Identify bad data\n",
    "n_sims = len(calsplit)\n",
    "reached = np.zeros((n_sims,))\n",
    "for sim in range(n_sims):\n",
    "    goal = deets[sim*3+1,:2]\n",
    "    reached[sim] = np.sum(np.where(((caltraj[sim*2,:10]-goal[0])**2+(caltraj[sim*2+1,:10]-goal[1])**2)**.5<=.2,1,0))\n",
    "print(\"The trajectory start point matches the actual start point \"+str(np.sum(np.where(reached>0,1,0)))+\" times out of \"+str(n_sims)+\".\")\n",
    "print(\"Fraction:\",np.sum(np.where(reached>0,1,0))/n_sims)\n",
    "print(np.where(reached==0))\n",
    "\n",
    "reached = np.zeros((n_sims,))\n",
    "for sim in range(n_sims):\n",
    "    goal = deets[sim*3+1,:2]\n",
    "    reached[sim] = np.sum(np.where(((calodom1[sim*2,:10]-goal[0])**2+(calodom1[sim*2+1,:10]-goal[1])**2)**.5<=.2,1,0))\n",
    "print(\"The odom start point matches the actual start point \"+str(np.sum(np.where(reached>0,1,0)))+\" times out of \"+str(n_sims)+\".\")\n",
    "print(\"Fraction:\",np.sum(np.where(reached>0,1,0))/n_sims)\n",
    "print(np.where(reached==0))"
   ]
  },
  {
   "cell_type": "code",
   "execution_count": 913,
   "metadata": {},
   "outputs": [
    {
     "name": "stdout",
     "output_type": "stream",
     "text": [
      "700\n"
     ]
    },
    {
     "data": {
      "image/png": "[encoded data removed]",
      "text/plain": [
       "<Figure size 216x216 with 1 Axes>"
      ]
     },
     "metadata": {
      "needs_background": "light"
     },
     "output_type": "display_data"
    },
    {
     "name": "stdout",
     "output_type": "stream",
     "text": [
      "701\n"
     ]
    },
    {
     "data": {
      "image/png": "[encoded data removed]",
      "text/plain": [
       "<Figure size 216x216 with 1 Axes>"
      ]
     },
     "metadata": {
      "needs_background": "light"
     },
     "output_type": "display_data"
    },
    {
     "name": "stdout",
     "output_type": "stream",
     "text": [
      "702\n"
     ]
    },
    {
     "data": {
      "image/png": "[encoded data removed]",
      "text/plain": [
       "<Figure size 216x216 with 1 Axes>"
      ]
     },
     "metadata": {
      "needs_background": "light"
     },
     "output_type": "display_data"
    },
    {
     "name": "stdout",
     "output_type": "stream",
     "text": [
      "703\n"
     ]
    },
    {
     "data": {
      "image/png": "[encoded data removed]",
      "text/plain": [
       "<Figure size 216x216 with 1 Axes>"
      ]
     },
     "metadata": {
      "needs_background": "light"
     },
     "output_type": "display_data"
    },
    {
     "name": "stdout",
     "output_type": "stream",
     "text": [
      "704\n"
     ]
    },
    {
     "data": {
      "image/png": "[encoded data removed]",
      "text/plain": [
       "<Figure size 216x216 with 1 Axes>"
      ]
     },
     "metadata": {
      "needs_background": "light"
     },
     "output_type": "display_data"
    },
    {
     "name": "stdout",
     "output_type": "stream",
     "text": [
      "705\n"
     ]
    },
    {
     "data": {
      "image/png": "[encoded data removed]",
      "text/plain": [
       "<Figure size 216x216 with 1 Axes>"
      ]
     },
     "metadata": {
      "needs_background": "light"
     },
     "output_type": "display_data"
    },
    {
     "name": "stdout",
     "output_type": "stream",
     "text": [
      "706\n"
     ]
    },
    {
     "data": {
      "image/png": "[encoded data removed]",
      "text/plain": [
       "<Figure size 216x216 with 1 Axes>"
      ]
     },
     "metadata": {
      "needs_background": "light"
     },
     "output_type": "display_data"
    },
    {
     "name": "stdout",
     "output_type": "stream",
     "text": [
      "707\n"
     ]
    },
    {
     "data": {
      "image/png": "[encoded data removed]",
      "text/plain": [
       "<Figure size 216x216 with 1 Axes>"
      ]
     },
     "metadata": {
      "needs_background": "light"
     },
     "output_type": "display_data"
    },
    {
     "name": "stdout",
     "output_type": "stream",
     "text": [
      "708\n"
     ]
    },
    {
     "data": {
      "image/png": "[encoded data removed]",
      "text/plain": [
       "<Figure size 216x216 with 1 Axes>"
      ]
     },
     "metadata": {
      "needs_background": "light"
     },
     "output_type": "display_data"
    },
    {
     "name": "stdout",
     "output_type": "stream",
     "text": [
      "709\n"
     ]
    },
    {
     "data": {
      "image/png": "[encoded data removed]",
      "text/plain": [
       "<Figure size 216x216 with 1 Axes>"
      ]
     },
     "metadata": {
      "needs_background": "light"
     },
     "output_type": "display_data"
    }
   ],
   "source": [
    "last_sim = 710\n",
    "n_obs = 3\n",
    "\n",
    "for sim in range(last_sim-10,last_sim):\n",
    "    print(sim)\n",
    "    fig, ax = plt.subplots(figsize=(3,3))\n",
    "    #ax.set_xlim((-5, 5))\n",
    "    #ax.set_ylim((-5, 5))\n",
    "    ax.grid()\n",
    "\n",
    "    # Plot the odometry\n",
    "    ind0 = np.where(calodom0[sim*2,:]!=0)\n",
    "    ind1 = np.where(calodom1[sim*2,:]!=0)\n",
    "    plt.plot(calodom0[sim*2,:ind0[0][-1]],calodom0[sim*2+1,:ind0[0][-1]])\n",
    "    plt.plot(calodom1[sim*2,:ind1[0][-1]],calodom1[sim*2+1,:ind1[0][-1]])\n",
    "\n",
    "    # Plot one predicted trajectory\n",
    "    ind = np.where(caltraj[sim*2,:]!=0)\n",
    "    plt.plot(caltraj[sim*2,:ind[0][-1]],caltraj[sim*2+1,:ind[0][-1]])\n",
    "\n",
    "    # Plot the obstacles\n",
    "    #for obs in range(n_obs):\n",
    "    #    ax.add_patch(plt.Circle((deets[sim*3+2,obs*2],deets[sim*3+2,obs*2+1]), .25, color='r'))\n",
    "        #print(obs)\n",
    "        #print((deets[sim*3+2,obs*2],deets[sim*3+2,obs*2+1]))\n",
    "    ax.add_patch(plt.Circle((deets[sim*3,0],deets[sim*3,1]), .105, color='b'))\n",
    "    #print(\"start\",(deets[sim*3,0],deets[sim*3,1]))\n",
    "    ax.add_patch(plt.Circle((deets[sim*3,3],deets[sim*3,4]), .105, color='g'))\n",
    "    #print(\"goal\",(deets[sim*3,3],deets[sim*3,4]))\n",
    "\n",
    "    # Plot the start and goal positions\n",
    "    ax.add_patch(plt.Circle((deets[sim*3+1,0],deets[sim*3+1,1]), .105, color='b'))\n",
    "    #print(\"start\",(deets[sim*3+1,0],deets[sim*3+1,1]))\n",
    "    ax.add_patch(plt.Circle((deets[sim*3+1,3],deets[sim*3+1,4]), .105, color='g'))\n",
    "    #print(\"goal\",(deets[sim*3+1,3],deets[sim*3+1,4]))\n",
    "    plt.show()"
   ]
  },
  {
   "cell_type": "code",
   "execution_count": 164,
   "metadata": {},
   "outputs": [
    {
     "name": "stdout",
     "output_type": "stream",
     "text": [
      "1.0 1.0\n",
      "-3.5192789902999007 0.04610639980016007\n",
      "-4.519278990299901\n",
      "-0.9538936001998399\n",
      "4.618852194286834\n"
     ]
    }
   ],
   "source": [
    "sim = 0\n",
    "obs = 1\n",
    "print(deets[sim*2+2,obs*2],deets[sim*2+2,obs*2+1])\n",
    "print(deets[sim*2,3],deets[sim*2,4])\n",
    "dx = deets[sim*2,3]-deets[sim*2+2,obs*2]\n",
    "print(dx)\n",
    "dy = deets[sim*2,4] - deets[sim*2+2,obs*2+1]\n",
    "print(dy)\n",
    "print((dx**2 + dy**2)**.5)"
   ]
  },
  {
   "cell_type": "code",
   "execution_count": 146,
   "metadata": {},
   "outputs": [
    {
     "name": "stdout",
     "output_type": "stream",
     "text": [
      "Calculating last local plan covariance\n",
      "0\n",
      "100\n",
      "200\n",
      "300\n",
      "400\n",
      "500\n",
      "600\n",
      "700\n",
      "750\n",
      "775\n",
      "800\n",
      "825\n",
      "850\n",
      "875\n",
      "900\n",
      "925\n",
      "950\n",
      "975\n",
      "999\n",
      "Calculating straight line covariance\n",
      "0\n",
      "100\n",
      "200\n",
      "300\n",
      "400\n",
      "500\n",
      "600\n",
      "700\n",
      "750\n",
      "775\n",
      "800\n",
      "825\n",
      "850\n",
      "875\n",
      "900\n",
      "925\n",
      "950\n",
      "975\n",
      "999\n"
     ]
    }
   ],
   "source": [
    "n_sim = len(calsplit)\n",
    "\n",
    "print(\"Calculating last local plan covariance\")\n",
    "normdata = np.zeros((n_sim,100,2))\n",
    "covslists = []\n",
    "\n",
    "for i in range(n_sim):\n",
    "    if i%100 == 0 or i == n_sim-1 or (i>=n_sim*.75 and i%25==0):\n",
    "        print(i)\n",
    "        for sim in range(i):\n",
    "            for t in range(100):\n",
    "                # if t=10, then the real t = 10*.01*len\n",
    "                #print(t*.01*calsplit[sim])\n",
    "                tprime = round(t*.01*(calsplit[sim]-1))\n",
    "                trajx = caltraj[sim*2, tprime]\n",
    "                trajy = caltraj[sim*2+1,tprime]\n",
    "                tprime = round(t*3*.01*(calsplit[sim]-1))\n",
    "                odomx = calodom1[sim*2,tprime]\n",
    "                odomy = calodom1[sim*2+1,tprime]\n",
    "                normdata[sim,t] = (np.array([trajx,trajy]) - np.array([odomx,odomy]))\n",
    "        covs = []\n",
    "        for t in range(100):\n",
    "            current = normdata[:,t,:]\n",
    "            covs.append(np.cov(current.T,ddof=0))\n",
    "        covslists.append(np.array(covs))\n",
    "    \n",
    "covslists = np.array(covslists)\n",
    "\n",
    "print(\"Calculating straight line covariance\")\n",
    "linedata = np.zeros((n_sim,100,2))\n",
    "covslistsline = []\n",
    "dur = []\n",
    "\n",
    "# Loop to calculate covariances with different numbers of simulations used\n",
    "for i in range(n_sim):\n",
    "    if i%100 == 0 or i == n_sim-1 or (i>=n_sim*.75 and i%25==0):\n",
    "        print(i)\n",
    "        # Full length of the line part of the trajectory\n",
    "        #print(\"Getting duration\")\n",
    "        #print(np.sum(np.where(caltraj[i*2]!=0,1,0)), calsplit[i])\n",
    "        #dur.append(np.sum(np.where(caltraj[i*2]!=0,1,0))-calsplit[i])\n",
    "        # Loop through simulations to calculate covariance\n",
    "        for sim in range(i):\n",
    "            dur = np.sum(np.where(caltraj[sim*2]!=0,1,0))-calsplit[sim]\n",
    "            # Loop for each time step in the simulation\n",
    "            for t in range(100):\n",
    "                #print(calsplit[sim],t,dur-1)\n",
    "                # index = index + % of index * index\n",
    "                tprime = round(calsplit[sim]+t*(dur-1)*.01)\n",
    "                trajx = caltraj[sim*2,tprime]\n",
    "                trajy = caltraj[sim*2+1,tprime]\n",
    "                tprime = round(calsplit[sim]+t*3*(dur-1)*.01)\n",
    "                odomx = calodom1[sim*2,tprime]\n",
    "                odomy = calodom1[sim*2+1,tprime]\n",
    "                linedata[sim,t] = (np.array([trajx,trajy]) - np.array([odomx,odomy]))\n",
    "        covs = []\n",
    "        for t in range(100):\n",
    "            current = linedata[:,t]\n",
    "            covs.append(np.cov(current.T,ddof=0))\n",
    "        covslistsline.append(np.array(covs))\n",
    "    \n",
    "covslistsline = np.array(covslistsline)"
   ]
  },
  {
   "cell_type": "code",
   "execution_count": 731,
   "metadata": {},
   "outputs": [
    {
     "name": "stdout",
     "output_type": "stream",
     "text": [
      "[0.00932755 0.00932755 0.00932855 0.0099201  0.01115316 0.01116706\n",
      " 0.01118335 0.01124281 0.01138003 0.01185495 0.01227335 0.01318825\n",
      " 0.01465689 0.01486458 0.01533873 0.01556374 0.01683848 0.01739346\n",
      " 0.0192981  0.01946318 0.02200543 0.02301306 0.02568155 0.02598809\n",
      " 0.02781662 0.03053981 0.03191316 0.03677607 0.0372393  0.04213014\n",
      " 0.04291248 0.04841265 0.04840541 0.05492288 0.05492053 0.06592332\n",
      " 0.06587493 0.07352521 0.07441274 0.07828522 0.08304489 0.08991896\n",
      " 0.09473358 0.100327   0.10553116 0.11065297 0.11051814 0.12367436\n",
      " 0.12915871 0.12778214 0.13478694 0.14612436 0.14400171 0.14965443\n",
      " 0.16404824 0.16457953 0.16885445 0.17477765 0.17850321 0.18403224\n",
      " 0.19388781 0.19876762 0.20262837 0.20102002 0.21083528 0.21033881\n",
      " 0.22177128 0.22238744 0.22693585 0.22638874 0.23830337 0.23487571\n",
      " 0.24558924 0.24135223 0.25076536 0.25820964 0.25811056 0.25973423\n",
      " 0.256113   0.25899552 0.26427546 0.27509919 0.27130527 0.27041111\n",
      " 0.27267003 0.27881512 0.28118323 0.28605994 0.27757755 0.27987667\n",
      " 0.28899005 0.29662485 0.3092264  0.30396621 0.29436023 0.28510055\n",
      " 0.27968589 0.31653149 0.33273451 0.32046162]\n",
      "[0.84104639 0.84104639 0.84104639 0.84013999 0.84013999 0.84013999\n",
      " 0.84013999 0.84013999 0.84013999 1.04952043 1.04952043 1.04952043\n",
      " 1.04952043 1.04952043 1.04692821 1.04692821 1.04692821 1.04692821\n",
      " 1.04692821 1.04692821 1.04302341 1.04302341 1.04302341 1.04302341\n",
      " 1.04302341 1.09048732 1.2064977  1.2064977  1.2064977  1.2064977\n",
      " 1.2064977  1.1986329  1.1986329  1.1986329  1.1986329  1.1986329\n",
      " 1.1986329  1.18861943 1.18861943 1.18861943 1.18861943 1.18861943\n",
      " 1.41947593 1.41947593 1.41947593 1.41947593 1.41947593 1.41947593\n",
      " 1.40566592 1.40566592 1.40566592 1.40566592 1.40566592 1.39000953\n",
      " 1.39000953 1.39000953 1.39000953 1.39000953 1.39000953 1.59892594\n",
      " 1.59892594 1.59892594 1.59892594 1.59892594 1.57931228 1.57931228\n",
      " 1.57931228 1.57931228 1.57931228 1.57931228 1.55862534 1.55862534\n",
      " 1.55862534 1.55862534 1.55862534 1.67764774 1.75023696 1.75023696\n",
      " 1.75023696 1.75023696 1.75023696 1.72596263 1.72596263 1.72596263\n",
      " 1.72596263 1.72596263 1.72596263 1.69922394 1.69922394 1.69922394\n",
      " 1.69922394 1.69922394 1.93284219 1.93284219 1.93284219 1.93284219\n",
      " 1.93284219 1.93284219 1.90322996 1.90322996]\n"
     ]
    }
   ],
   "source": [
    "print(covslists[-1,:,0,0])\n",
    "print(covslistsline[-1,:,0,0])"
   ]
  },
  {
   "cell_type": "code",
   "execution_count": 150,
   "metadata": {},
   "outputs": [
    {
     "data": {
      "image/png": "[encoded data removed]",
      "text/plain": [
       "<Figure size 432x288 with 1 Axes>"
      ]
     },
     "metadata": {
      "needs_background": "light"
     },
     "output_type": "display_data"
    }
   ],
   "source": [
    "# Plot the change in covariance over time\n",
    "plt.figure()\n",
    "for i in range(2):\n",
    "    for j in range(2):\n",
    "        # any sim, 50th time step\n",
    "        plt.plot(covslists[:,50,i,j],label=str(i)+\" \"+str(j))\n",
    "for i in range(2):\n",
    "    for j in range(2):\n",
    "        plt.plot(covslistsline[:,50,i,j],label=str(i)+\" \"+str(j)+\"line\")\n",
    "plt.legend()\n",
    "plt.show()"
   ]
  },
  {
   "cell_type": "code",
   "execution_count": 151,
   "metadata": {},
   "outputs": [
    {
     "data": {
      "image/png": "[encoded data removed]",
      "text/plain": [
       "<Figure size 432x288 with 1 Axes>"
      ]
     },
     "metadata": {
      "needs_background": "light"
     },
     "output_type": "display_data"
    }
   ],
   "source": [
    "# Plot the final covariance matrices\n",
    "plt.figure()\n",
    "for i in range(2):\n",
    "    for j in range(2):\n",
    "        # last sim, any time step\n",
    "        plt.plot(covslists[-1,:,i,j],label=str(i)+\" \"+str(j))\n",
    "for i in range(2):\n",
    "    for j in range(2):\n",
    "        plt.plot(covslistsline[-1,:,i,j],label=str(i)+\" \"+str(j)+\"line\")\n",
    "plt.legend()\n",
    "plt.show()"
   ]
  },
  {
   "cell_type": "code",
   "execution_count": 172,
   "metadata": {},
   "outputs": [
    {
     "data": {
      "image/png": "[encoded data removed]",
      "text/plain": [
       "<Figure size 432x288 with 1 Axes>"
      ]
     },
     "metadata": {
      "needs_background": "light"
     },
     "output_type": "display_data"
    },
    {
     "data": {
      "image/png": "[encoded data removed]",
      "text/plain": [
       "<Figure size 432x288 with 1 Axes>"
      ]
     },
     "metadata": {
      "needs_background": "light"
     },
     "output_type": "display_data"
    },
    {
     "data": {
      "image/png": "[encoded data removed]",
      "text/plain": [
       "<Figure size 432x288 with 1 Axes>"
      ]
     },
     "metadata": {
      "needs_background": "light"
     },
     "output_type": "display_data"
    },
    {
     "data": {
      "image/png": "[encoded data removed]",
      "text/plain": [
       "<Figure size 432x288 with 1 Axes>"
      ]
     },
     "metadata": {
      "needs_background": "light"
     },
     "output_type": "display_data"
    },
    {
     "name": "stdout",
     "output_type": "stream",
     "text": [
      "[[[ 1.372e-16 -5.743e-14  9.895e-12 -9.044e-10  4.739e-08 -1.467e-06\n",
      "    2.739e-05 -2.487e-04  1.203e-03 -8.804e-04]\n",
      "  [ 2.508e-17 -1.031e-14  1.718e-12 -1.490e-10  7.229e-09 -1.993e-07\n",
      "    3.086e-06 -2.337e-05  7.782e-05 -4.029e-05]\n",
      "  [ 0.000e+00  0.000e+00  0.000e+00  0.000e+00  0.000e+00  0.000e+00\n",
      "    0.000e+00  0.000e+00  0.000e+00  0.000e+00]]\n",
      "\n",
      " [[ 2.508e-17 -1.031e-14  1.718e-12 -1.490e-10  7.229e-09 -1.993e-07\n",
      "    3.086e-06 -2.337e-05  7.782e-05 -4.029e-05]\n",
      "  [ 9.190e-17 -3.795e-14  6.468e-12 -5.872e-10  3.095e-08 -1.001e-06\n",
      "    2.094e-05 -2.098e-04  1.145e-03 -9.065e-04]\n",
      "  [ 0.000e+00  0.000e+00  0.000e+00  0.000e+00  0.000e+00  0.000e+00\n",
      "    0.000e+00  0.000e+00  0.000e+00  0.000e+00]]\n",
      "\n",
      " [[ 0.000e+00  0.000e+00  0.000e+00  0.000e+00  0.000e+00  0.000e+00\n",
      "    0.000e+00  0.000e+00  0.000e+00  0.000e+00]\n",
      "  [ 0.000e+00  0.000e+00  0.000e+00  0.000e+00  0.000e+00  0.000e+00\n",
      "    0.000e+00  0.000e+00  0.000e+00  0.000e+00]\n",
      "  [ 0.000e+00  0.000e+00  0.000e+00  0.000e+00  0.000e+00  0.000e+00\n",
      "    0.000e+00  0.000e+00  0.000e+00  0.000e+00]]]\n"
     ]
    }
   ],
   "source": [
    "degree = 9\n",
    "vals = np.zeros((3,3,degree+1))\n",
    "for i in range(2):\n",
    "    for j in range(2):\n",
    "        vals[i,j] = np.polyfit(np.arange(0,100),covslists[-1,:,i,j],degree)\n",
    "        plt.figure()\n",
    "        plt.plot(covslists[-1,:,i,j])\n",
    "        pred = np.zeros(100)\n",
    "        for exp in range(degree+1):\n",
    "            pred += vals[i,j,degree-exp]*np.arange(0,100)**exp\n",
    "        plt.plot(np.arange(0,100),pred)\n",
    "        plt.show()\n",
    "print(vals)"
   ]
  },
  {
   "cell_type": "code",
   "execution_count": 171,
   "metadata": {},
   "outputs": [
    {
     "data": {
      "image/png": "[encoded data removed]",
      "text/plain": [
       "<Figure size 432x288 with 1 Axes>"
      ]
     },
     "metadata": {
      "needs_background": "light"
     },
     "output_type": "display_data"
    },
    {
     "data": {
      "image/png": "[encoded data removed]",
      "text/plain": [
       "<Figure size 432x288 with 1 Axes>"
      ]
     },
     "metadata": {
      "needs_background": "light"
     },
     "output_type": "display_data"
    },
    {
     "data": {
      "image/png": "[encoded data removed]",
      "text/plain": [
       "<Figure size 432x288 with 1 Axes>"
      ]
     },
     "metadata": {
      "needs_background": "light"
     },
     "output_type": "display_data"
    },
    {
     "data": {
      "image/png": "[encoded data removed]",
      "text/plain": [
       "<Figure size 432x288 with 1 Axes>"
      ]
     },
     "metadata": {
      "needs_background": "light"
     },
     "output_type": "display_data"
    },
    {
     "name": "stdout",
     "output_type": "stream",
     "text": [
      "[[[-9.619e-15  4.480e-12 -8.702e-10  9.104e-08 -5.519e-06  1.939e-04\n",
      "   -3.730e-03  3.495e-02 -1.172e-01  8.013e-01]\n",
      "  [-1.666e-16  7.138e-14 -1.251e-11  1.147e-09 -5.801e-08  1.532e-06\n",
      "   -1.596e-05 -5.978e-05  1.664e-03  5.419e-03]\n",
      "  [ 0.000e+00  0.000e+00  0.000e+00  0.000e+00  0.000e+00  0.000e+00\n",
      "    0.000e+00  0.000e+00  0.000e+00  0.000e+00]]\n",
      "\n",
      " [[-1.666e-16  7.138e-14 -1.251e-11  1.147e-09 -5.801e-08  1.532e-06\n",
      "   -1.596e-05 -5.978e-05  1.664e-03  5.419e-03]\n",
      "  [-3.113e-15  1.459e-12 -2.856e-10  3.017e-08 -1.854e-06  6.636e-05\n",
      "   -1.311e-03  1.254e-02 -3.736e-02  8.035e-01]\n",
      "  [ 0.000e+00  0.000e+00  0.000e+00  0.000e+00  0.000e+00  0.000e+00\n",
      "    0.000e+00  0.000e+00  0.000e+00  0.000e+00]]\n",
      "\n",
      " [[ 0.000e+00  0.000e+00  0.000e+00  0.000e+00  0.000e+00  0.000e+00\n",
      "    0.000e+00  0.000e+00  0.000e+00  0.000e+00]\n",
      "  [ 0.000e+00  0.000e+00  0.000e+00  0.000e+00  0.000e+00  0.000e+00\n",
      "    0.000e+00  0.000e+00  0.000e+00  0.000e+00]\n",
      "  [ 0.000e+00  0.000e+00  0.000e+00  0.000e+00  0.000e+00  0.000e+00\n",
      "    0.000e+00  0.000e+00  0.000e+00  0.000e+00]]]\n"
     ]
    }
   ],
   "source": [
    "degree = 9\n",
    "vals = np.zeros((3,3,degree+1))\n",
    "\n",
    "for i in range(2):\n",
    "    for j in range(2):\n",
    "        vals[i,j] = np.polyfit(np.arange(0,100),covslistsline[-1,:,i,j],degree)\n",
    "        plt.figure()\n",
    "        plt.plot(covslistsline[-1,:,i,j])\n",
    "        pred = np.zeros(100)\n",
    "        for exp in range(degree+1):\n",
    "            pred += vals[i,j,degree-exp]*np.arange(0,100)**exp\n",
    "        plt.plot(np.arange(0,100),pred)\n",
    "        plt.show()\n",
    "print(vals)"
   ]
  },
  {
   "cell_type": "markdown",
   "metadata": {},
   "source": [
    "# Getting Final Data"
   ]
  },
  {
   "cell_type": "code",
   "execution_count": 528,
   "metadata": {},
   "outputs": [
    {
     "data": {
      "text/plain": [
       "(1500, 1200)"
      ]
     },
     "metadata": {},
     "output_type": "display_data"
    },
    {
     "data": {
      "text/plain": [
       "(1500, 1200)"
      ]
     },
     "metadata": {},
     "output_type": "display_data"
    },
    {
     "data": {
      "text/plain": [
       "(2250, 6)"
      ]
     },
     "metadata": {},
     "output_type": "display_data"
    }
   ],
   "source": [
    "folder = \"./paper10\"\n",
    "\n",
    "calodom0 = np.vstack((np.loadtxt(folder+\"/calodom0.csv\", delimiter=\",\"))) #, \\\n",
    "#                      np.loadtxt(\"./final/final\"+rep+\"_second50/calodom0.csv\", delimiter=\",\")))\n",
    "#calodom0 = np.delete(calodom0, [451*2,451*2+1,454*2,454*2+1,598*2,598*2+1], axis=0) # papercontrol\n",
    "#calodom0 = np.delete(calodom0, [191*2,191*2+1],axis=0) # paperrtd\n",
    "#calodom0 = np.delete(calodom0, [651*2,651*2+1], axis=0) # paper90\n",
    "#calodom0 = np.delete(calodom0, [193*2, 193*2+1], axis=0) # paper50\n",
    "calodom0 = np.delete(calodom0, [182*2,182*2+1,551*2,551*2+1], axis=0) # paper10\n",
    "display(calodom0.shape)\n",
    "\n",
    "calodom1 = np.vstack((np.loadtxt(folder+\"/calodom1.csv\", delimiter=\",\"))) #, \\\n",
    "#                      np.loadtxt(\"./final/final\"+rep+\"_second50/calodom1.csv\", delimiter=\",\")))\n",
    "#calodom1 = np.delete(calodom1, [451*2,451*2+1,454*2,454*2+1,598*2,598*2+1], axis=0) # papercontrol\n",
    "#calodom1 = np.delete(calodom1, [191*2,191*2+1],axis=0) # paperrtd\n",
    "#calodom1 = np.delete(calodom1, [651*2,651*2+1], axis=0) # paper90\n",
    "#calodom1 = np.delete(calodom1, [193*2, 193*2+1], axis=0) # paper50\n",
    "calodom1 = np.delete(calodom1, [182*2,182*2+1,551*2,551*2+1], axis=0) # paper10\n",
    "display(calodom1.shape)\n",
    "\n",
    "deets = np.vstack((np.loadtxt(folder+\"/simdeets.csv\", delimiter=\",\"))) #, \\\n",
    "#                   np.loadtxt(\"./final/final\"+rep+\"_second50/simdeets.csv\", delimiter=\",\")))\n",
    "#deets = np.delete(deets, [26*3,26*3+1,26*3+2], axis=0)\n",
    "#deets = np.delete(deets, [44*3,44*3+1,44*3+2], axis=0)\n",
    "#deets = np.delete(deets, [175*3,175*3+1,175*3+2,371*3,371*3+1,371*3+2,638*3,638*3+1,638*3+2], axis=0) # paperrtd\n",
    "#deets = np.delete(deets, [160*3,160*3+1,160*3+2], axis=0) # paper90\n",
    "#deets = np.delete(deets, [261*3,261*3+1,261*3+2,724*3,724*3+1,724*3+2], axis=0) # paper50\n",
    "deets = np.delete(deets, [314*3,314*3+1,314*3+2], axis=0) # paper10\n",
    "display(deets.shape)"
   ]
  },
  {
   "cell_type": "code",
   "execution_count": 529,
   "metadata": {},
   "outputs": [
    {
     "name": "stdout",
     "output_type": "stream",
     "text": [
      "The odom start point matches the actual start point 750 times out of 750.\n",
      "Fraction: 1.0\n",
      "(array([], dtype=int64),)\n"
     ]
    }
   ],
   "source": [
    "# Identify bad data\n",
    "n_sims = 750\n",
    "reached = np.zeros((n_sims,))\n",
    "for sim in range(n_sims):\n",
    "    goal = deets[sim*3+1,:2]\n",
    "    reached[sim] = np.sum(np.where(((calodom1[sim*2,:10]-goal[0])**2+(calodom1[sim*2+1,:10]-goal[1])**2)**.5<=.2,1,0))\n",
    "print(\"The odom start point matches the actual start point \"+str(np.sum(np.where(reached>0,1,0)))+\" times out of \"+str(n_sims)+\".\")\n",
    "print(\"Fraction:\",np.sum(np.where(reached>0,1,0))/n_sims)\n",
    "print(np.where(reached==0))"
   ]
  },
  {
   "cell_type": "markdown",
   "metadata": {},
   "source": [
    "### Get times the goal is reached"
   ]
  },
  {
   "cell_type": "code",
   "execution_count": 530,
   "metadata": {},
   "outputs": [
    {
     "name": "stdout",
     "output_type": "stream",
     "text": [
      "The goal was reached 621 times out of 750.\n",
      "Fraction: 0.828\n"
     ]
    }
   ],
   "source": [
    "n_sims = 750\n",
    "reached = np.zeros((n_sims,))\n",
    "for sim in range(n_sims):\n",
    "    goal = deets[sim*3,3:5]\n",
    "    reached[sim] = np.sum(np.where(((calodom0[sim*2]-goal[0])**2+(calodom0[sim*2+1]-goal[1])**2)**.5<=.2,1,0))\n",
    "print(\"The goal was reached \"+str(np.sum(np.where(reached>0,1,0)))+\" times out of \"+str(n_sims)+\".\")\n",
    "print(\"Fraction:\",np.sum(np.where(reached>0,1,0))/n_sims)"
   ]
  },
  {
   "cell_type": "markdown",
   "metadata": {},
   "source": [
    "## Get the number of collisions"
   ]
  },
  {
   "cell_type": "code",
   "execution_count": 531,
   "metadata": {},
   "outputs": [
    {
     "name": "stdout",
     "output_type": "stream",
     "text": [
      "The robots collided 20 times out of 750.\n",
      "Fraction: 0.02666666666666667\n",
      "(array([ 27,  73,  84,  96, 188, 222, 348, 356, 358, 395, 406, 445, 484,\n",
      "       491, 507, 555, 682, 717, 727, 746]),)\n"
     ]
    }
   ],
   "source": [
    "n_bots = 2\n",
    "collided = np.zeros((n_sims,))\n",
    "for sim in range(n_sims):\n",
    "    ind0 = np.where(calodom0[sim*2]!=0)\n",
    "    ind1 = np.where(calodom1[sim*2]!=0)\n",
    "    ind = min(ind0[0][-1],ind1[0][-1])\n",
    "    collided[sim] = np.sum(np.where(((calodom0[sim*2,ind]-calodom1[sim*2,ind])**2 + \\\n",
    "                                     (calodom0[sim*2+1,ind]-calodom1[sim*2+1,ind])**2)**.5<=.105,1,0))\n",
    "print(\"The robots collided \"+str(np.sum(np.where(collided>0,1,0)))+\" times out of \"+str(n_sims)+\".\")\n",
    "print(\"Fraction:\",np.sum(np.where(collided>0,1,0))/n_sims)\n",
    "print(np.where(collided!=0))"
   ]
  },
  {
   "cell_type": "markdown",
   "metadata": {},
   "source": [
    "## Get average time to reach the goal when reached"
   ]
  },
  {
   "cell_type": "code",
   "execution_count": 532,
   "metadata": {},
   "outputs": [
    {
     "name": "stdout",
     "output_type": "stream",
     "text": [
      "When the goal was reached, it took an average of 15.853945249597423 seconds.\n"
     ]
    }
   ],
   "source": [
    "tf = np.zeros((n_sims,))\n",
    "for sim in range(n_sims):\n",
    "    if reached[sim]>0:\n",
    "        goal = deets[sim*3,3:5]\n",
    "        #print(np.sum(np.where(((calodom0[sim*2]-goal[0])**2+(calodom0[sim*2+1]-goal[1])**2)**.5<=.2,1,0)))\n",
    "        ind = np.where(((calodom0[sim*2]-goal[0])**2+(calodom0[sim*2+1]-goal[1])**2)**.5<=.2)\n",
    "        #print(ind)\n",
    "        tf[sim] = ind[0][0]*.1\n",
    "    else:\n",
    "        tf[sim] = None\n",
    "print(\"When the goal was reached, it took an average of \"+str(np.nanmean(tf))+\" seconds.\")"
   ]
  },
  {
   "cell_type": "code",
   "execution_count": 522,
   "metadata": {},
   "outputs": [
    {
     "data": {
      "text/plain": [
       "array([ 5.5, 20.6, 22.9, 28.2, 11.5, 21.1,  6.1, 19.6,  8.9,  9.5, 25.2,\n",
       "       29.6,  4.1, 19.7, 16. ,  4.5, 12.5,  6.6,  nan, 10.3, 17.1,  8.6,\n",
       "       17.3, 17.9, 11.6, 12.4,  nan, 11. ,  7.5, 14.2,  5.6,  5.3, 20.7,\n",
       "        nan, 15.2, 23.2, 18.7,  9.6, 13.7,  nan, 15.2, 18.7, 34.5, 37.2,\n",
       "        nan,  5.4, 20.3,  nan, 13.2, 18.5, 10.5, 20.2, 18.8, 11.1, 10.4,\n",
       "        nan,  9.6, 23. , 14. ,  nan, 14.7, 12.3,  7.4, 21.1,  nan,  9.8,\n",
       "        9.9, 10.5, 16.7, 11. , 16.3, 21.7, 18.5, 17.7, 14.8,  9.4,  3.5,\n",
       "        8.7, 33.6, 19.2,  0. ,  3.2, 12. , 13.4,  7.3, 16.6,  6. , 16.4,\n",
       "       10.5,  9.2, 22.3, 33.8, 35.9, 12.7, 18.2, 26.1,  4.7,  nan,  2.9,\n",
       "        8.2, 17.1, 23.4, 12.1,  6.6,  nan, 19.1,  nan, 18.6,  9.4,  7.6,\n",
       "       17.2, 18.7, 27.8, 30.4,  7.1, 12.9,  nan, 11.4, 26. ,  nan, 13.1,\n",
       "       17.6, 18.1,  nan, 18.8,  5.5, 19.9, 16.8,  4.1, 21.5, 11.7,  8.2,\n",
       "       15.2, 21.7, 14.9, 22.7, 27.6, 30. ,  nan, 10.4,  4.4, 14.1,  8.3,\n",
       "        nan,  4.4, 21.6,  nan,  6.3,  3.8, 27.1, 17.6,  nan, 14.3, 32.6,\n",
       "       12.3, 36. , 10.5,  7.6, 13.9,  4.5, 15.2, 16.8, 10.5, 12.2, 11.6,\n",
       "        9.7,  3.5, 26.3, 24.1,  5.3,  9.8, 16.8, 16.1,  nan, 10.2, 23.7,\n",
       "       20.5,  4.1,  7.1, 27.9, 17.9, 33.5, 28.2, 15.9,  0. ,  nan, 19.9,\n",
       "       11.8, 17.6, 16.5, 11.4, 35.2, 14.9, 14.4, 10. ,  7.6, 17.7, 16.4,\n",
       "        nan,  0. , 11.2, 15.4, 18.4,  3.6, 17.9, 10.3,  8.1, 23. ,  9. ,\n",
       "       20.7, 22. ,  nan, 22.9, 10.2, 13.7, 23.7, 11.4,  nan,  nan, 24.6,\n",
       "       25.2, 12.9,  7.8, 18.7, 10.8,  5. , 12.4, 14.2,  5.9,  4.8, 16.5,\n",
       "       11.3,  4.2, 17.1,  5.6,  9.3,  6.9,  nan, 12. ,  6.4, 11.8,  2.8,\n",
       "       37.3, 12.3,  6.7, 10.5, 36.6,  nan, 19.4, 17.4, 18. ,  7.8, 11.6,\n",
       "       12.8, 20.2,  9.6, 12.5,  6.6,  nan, 10. , 10.8,  8.2,  nan, 34.8,\n",
       "        nan,  9.1, 14.9, 39.2,  7. , 16.8,  5. , 27.9,  9.6,  4.1, 25. ,\n",
       "       22.6,  9.6, 10.2,  nan, 26.6,  5.1, 12.9,  nan,  nan, 17.8, 14.9,\n",
       "       11.6,  nan,  6.9,  nan, 38.9, 18.7,  5.4, 17. , 18.5, 21.7, 30.2,\n",
       "       26.1,  nan, 22.3,  nan, 16.7, 17. , 39.6, 17.7, 11. , 19.8, 19.3,\n",
       "       17.3, 23. , 13.1, 29.9, 10.8, 26.1,  nan, 15. , 17.3, 15.1, 16.5,\n",
       "       13.8, 39.8, 24.4, 16.7,  6.1,  7.6, 15.6, 17.4, 28.6, 21.2, 38.3,\n",
       "       17.1, 31.4, 26.7, 12.8, 16. ,  8.1,  nan,  7.3,  3. ,  4.1,  nan,\n",
       "       21.5, 17.9, 18.6,  7.8, 21.6, 37.2, 11.2, 16.4,  9. , 12.8, 11.4,\n",
       "       18.7,  5.3,  nan, 19.6, 33.4, 12.5,  9.4, 11.8, 23.5, 17.7,  2.2,\n",
       "        4.7,  nan,  nan, 33.7,  5.2,  9.4, 16.2,  6.3, 16.7, 17. , 10.6,\n",
       "       21.8,  nan, 17.6,  nan, 16.8, 16.6, 18.1,  2.8, 14.1,  nan,  nan,\n",
       "        6.4,  0. , 10.9,  nan, 12. ,  0. , 17.8, 13. ,  nan,  5.2, 26.1,\n",
       "        5. ,  5.2,  4.8,  5.6, 11.8,  4.5,  nan,  7.6,  nan,  9.2,  nan,\n",
       "       14. ,  4.3, 40.1, 18.4, 15.9, 11.9,  9. , 21.7,  nan, 19.1,  8. ,\n",
       "        nan,  8.6,  8.2, 14.4,  5.9,  4.3, 14.7,  3.4, 13.3,  nan,  nan,\n",
       "        nan,  4.9, 20.9,  7.7, 22.4, 35.2, 13.6, 18.1, 28.4, 13.5,  7.2,\n",
       "        nan, 21.5, 27.2,  7.1, 10.5, 12.1, 12.9,  nan, 26.7,  4.4, 17.7,\n",
       "       11.7, 26.8, 18.1, 25.5, 18.1, 13. , 23.4, 18.2,  7.5, 34.5,  nan,\n",
       "       16.2,  5. ,  4. ,  nan, 24.5,  nan, 22.6, 16.1, 16.3, 14.4, 13.8,\n",
       "       10.4, 17.9,  0. ,  5.5,  8.5,  nan,  8. , 15. ,  7. ,  4. , 16.8,\n",
       "       15. ,  6.6, 18.8, 16.9,  nan, 13. ,  7.9, 12.4,  5.7, 34.5,  6.2,\n",
       "        8.9, 16.6, 17.7,  nan, 16.3,  4. ,  3.4,  7.5,  4. , 36.2, 30. ,\n",
       "        2.5,  nan,  nan,  5.7, 21.8, 13.8,  nan, 17.4,  4.1, 17.2, 31.6,\n",
       "        nan, 18.2, 16.9, 39.3, 15.2,  6. ,  nan,  8.5,  8.4, 21. ,  3.8,\n",
       "       15.6,  nan, 12.7, 11.1, 17.4,  nan,  nan,  7.5, 30. , 17.6,  9.3,\n",
       "        6.4,  7.5, 14.5, 27.2,  nan,  4.1, 17.7,  nan, 13. , 30.2, 17.8,\n",
       "       40.9,  4.9,  nan, 19.6,  7.8, 22.9, 28.4,  nan,  nan, 14. ,  8.6,\n",
       "        8.3, 15.3,  9.6, 12.6,  7.1,  4.9, 15.7, 12.2, 31.3, 19.4,  3.4,\n",
       "       27.4, 13.2,  6.8, 22.6,  nan, 10.9, 22.2, 13.3, 32.2, 16.6, 17.5,\n",
       "       13.1, 14.1, 17.8, 29. , 22.8,  4.1,  4.2, 15.5,  nan, 10.3, 13.5,\n",
       "       13.2, 14.1, 15. ,  7.8,  8.5, 10.2, 14.6, 23.9, 21. ,  3.4, 10.9,\n",
       "        7.5, 19.7,  4.1, 17.7,  7.9,  nan,  7.5,  nan, 12.2, 14.1,  5.8,\n",
       "       20.9, 19.4,  4.7, 13. , 12.9, 10.5,  nan,  nan,  5.1, 10.9,  9.6,\n",
       "       18.6, 22. ,  5.4,  5.4,  7.9, 12.4, 14.3, 11.2,  nan, 13.5, 21.3,\n",
       "       30. , 17. ,  3.8, 22.1, 16. , 13.1, 12. , 12.5,  9.5, 14.8, 11.4,\n",
       "        3.9, 15.6, 14.7,  nan,  nan, 14.7, 12.1,  0. , 22.2, 21.9,  7.3,\n",
       "        6.8, 24. , 21.8, 16.3,  8.3,  nan,  7.2, 17.1, 13. ,  5.5, 11.8,\n",
       "       16.7, 14.1,  3.2, 14.8, 20. , 10.7,  nan,  9.8,  9.7, 10.8, 17.6,\n",
       "       16.7,  8.3, 12.7, 22.9,  nan, 13.9,  7.1, 10. ,  9.1,  4.2,  nan,\n",
       "        6.9, 11.3,  nan,  4.5,  4. , 11.2,  6.6, 39.5, 11.1, 17. ,  5.6,\n",
       "        9.8, 11.5, 28.4,  nan,  6.7, 21.4, 17. , 11.9, 24.9, 25.3, 12.2,\n",
       "       21.5, 13.8,  4.4, 11.7,  7.5, 12.4, 10.1,  9.2, 35.5,  6.8,  9. ,\n",
       "       14.5,  nan, 26.1,  nan, 12. , 16.2, 12.2, 10.6,  4.8, 12.3, 18.7,\n",
       "       11.9,  8.2, 15.9,  9.6, 19.5, 10.1,  4. ,  7.1,  6.7, 16.3, 31.1,\n",
       "       20.9,  9.9])"
      ]
     },
     "execution_count": 522,
     "metadata": {},
     "output_type": "execute_result"
    }
   ],
   "source": [
    "tf"
   ]
  },
  {
   "cell_type": "code",
   "execution_count": 523,
   "metadata": {},
   "outputs": [
    {
     "data": {
      "image/png": "[encoded data removed]",
      "text/plain": [
       "<Figure size 504x216 with 1 Axes>"
      ]
     },
     "metadata": {
      "needs_background": "light"
     },
     "output_type": "display_data"
    },
    {
     "data": {
      "image/png": "[encoded data removed]",
      "text/plain": [
       "<Figure size 432x288 with 1 Axes>"
      ]
     },
     "metadata": {
      "needs_background": "light"
     },
     "output_type": "display_data"
    }
   ],
   "source": [
    "p = [10,50,90]\n",
    "g = [76,90,90]\n",
    "c = [4,1,2]\n",
    "plt.figure(figsize=(7,3))\n",
    "plt.plot(p,g,label=\"Goal Reached\")\n",
    "plt.scatter(p,g)\n",
    "#plt.plot(p,c,label=\"Collisions\")\n",
    "#plt.scatter(p,c)\n",
    "plt.xlabel(\"Bounding Probability (%)\")\n",
    "plt.ylabel(\"Percentage Occurance\")\n",
    "plt.ylim([50,100])\n",
    "#plt.legend(loc=\"center right\")\n",
    "plt.show()\n",
    "\n",
    "plt.figure()\n",
    "plt.plot(p,c)\n",
    "plt.scatter(p,c)\n",
    "plt.xlabel(\"Bounding Probability (%)\")\n",
    "plt.ylabel(\"Collisions (%)\")\n",
    "plt.ylim([0,50])\n",
    "plt.show()"
   ]
  },
  {
   "cell_type": "code",
   "execution_count": 414,
   "metadata": {},
   "outputs": [
    {
     "name": "stdout",
     "output_type": "stream",
     "text": [
      "0\n",
      "25\n",
      "50\n",
      "75\n",
      "100\n",
      "125\n",
      "150\n",
      "175\n",
      "200\n",
      "225\n",
      "250\n",
      "275\n",
      "300\n",
      "325\n",
      "350\n",
      "375\n",
      "400\n"
     ]
    },
    {
     "name": "stderr",
     "output_type": "stream",
     "text": [
      "/home/derek/.local/lib/python3.6/site-packages/ipykernel_launcher.py:13: RuntimeWarning: invalid value encountered in long_scalars\n",
      "  del sys.path[0]\n"
     ]
    },
    {
     "name": "stdout",
     "output_type": "stream",
     "text": [
      "425\n",
      "450\n",
      "475\n",
      "500\n",
      "525\n",
      "550\n",
      "575\n",
      "600\n",
      "625\n",
      "650\n",
      "675\n",
      "698\n"
     ]
    },
    {
     "data": {
      "image/png": "[encoded data removed]",
      "text/plain": [
       "<Figure size 432x288 with 1 Axes>"
      ]
     },
     "metadata": {
      "needs_background": "light"
     },
     "output_type": "display_data"
    },
    {
     "data": {
      "image/png": "[encoded data removed]",
      "text/plain": [
       "<Figure size 432x288 with 1 Axes>"
      ]
     },
     "metadata": {
      "needs_background": "light"
     },
     "output_type": "display_data"
    }
   ],
   "source": [
    "n_sims = 699\n",
    "fractions = []\n",
    "col_fracs = []\n",
    "for i in range(n_sims):\n",
    "    if i % 25 == 0 or i==n_sims-1:\n",
    "        print(i)\n",
    "        # Did the agent reach the goal\n",
    "        reached = np.zeros((i,))\n",
    "        for sim in range(i):\n",
    "            goal = deets[sim*3,3:5]\n",
    "            reached[sim] = np.sum(np.where(((calodom0[sim*2]-goal[0])**2+(calodom0[sim*2+1]-goal[1])**2)**.5<=.2,1,0))\n",
    "        #print(\"The goal was reached \"+str(np.sum(np.where(reached>0,1,0)))+\" times out of \"+str(n_sims)+\".\")\n",
    "        fractions.append(np.sum(np.where(reached>0,1,0))/i)\n",
    "        \n",
    "        # Did the agents collide\n",
    "        collided = np.zeros((i,))\n",
    "        for sim in range(i):\n",
    "            ind0 = np.where(calodom0[sim*2]!=0)\n",
    "            ind1 = np.where(calodom1[sim*2]!=0)\n",
    "            ind = min(ind0[0][-1],ind1[0][-1])\n",
    "            collided[sim] = np.sum(np.where(((calodom0[sim*2,ind]-calodom1[sim*2,ind])**2 + \\\n",
    "                                             (calodom0[sim*2+1,ind]-calodom1[sim*2+1,ind])**2)**.5<=.105,1,0))\n",
    "        #print(\"The robots collided \"+str(np.sum(np.where(collided>0,1,0)))+\" times out of \"+str(n_sims)+\".\")\n",
    "        col_fracs.append(np.sum(np.where(collided>0,1,0))/n_sims)\n",
    "    \n",
    "plt.figure()\n",
    "plt.plot(fractions,label=\"Goal Reached\")\n",
    "plt.show()\n",
    "plt.figure()\n",
    "plt.plot(col_fracs,label=\"Collisions\")\n",
    "plt.show()"
   ]
  },
  {
   "cell_type": "markdown",
   "metadata": {},
   "source": [
    "## Calculate Confidence Bounds"
   ]
  },
  {
   "cell_type": "code",
   "execution_count": 533,
   "metadata": {},
   "outputs": [
    {
     "name": "stdout",
     "output_type": "stream",
     "text": [
      "Goal Reached\n",
      "0.027008771552960345\n",
      "5471.053055999999\n",
      "Collisions\n",
      "0.011530299922217822\n",
      "997.1086222222224\n",
      "Time\n",
      "0.6230665053114842\n",
      "2911589.025307994\n"
     ]
    }
   ],
   "source": [
    "z = 1.96 # For 95%\n",
    "g = .01\n",
    "\n",
    "n_sims = 750\n",
    "reached = np.zeros((n_sims,))\n",
    "for sim in range(n_sims):\n",
    "    goal = deets[sim*3,3:5]\n",
    "    reached[sim] = np.sum(np.where(((calodom0[sim*2]-goal[0])**2+(calodom0[sim*2+1]-goal[1])**2)**.5<=.2,1,0))\n",
    "sig = np.std(np.where(reached>0,1,0))\n",
    "print(\"Goal Reached\")\n",
    "print(z*sig/(n_sims**.5))\n",
    "print(z**2*sig**2/g**2)\n",
    "\n",
    "n_bots = 2\n",
    "collided = np.zeros((n_sims,))\n",
    "for sim in range(n_sims):\n",
    "    ind0 = np.where(calodom0[sim*2]!=0)\n",
    "    ind1 = np.where(calodom1[sim*2]!=0)\n",
    "    ind = min(ind0[0][-1],ind1[0][-1])\n",
    "    collided[sim] = np.sum(np.where(((calodom0[sim*2,ind]-calodom1[sim*2,ind])**2 + \\\n",
    "                                     (calodom0[sim*2+1,ind]-calodom1[sim*2+1,ind])**2)**.5<=.105,1,0))\n",
    "sig = np.std(np.where(collided>0,1,0))\n",
    "print(\"Collisions\")\n",
    "print(z*sig/(n_sims**.5))\n",
    "print(z**2*sig**2/g**2)\n",
    "\n",
    "tf = np.zeros((n_sims,))\n",
    "for sim in range(n_sims):\n",
    "    if reached[sim]>0:\n",
    "        goal = deets[sim*3,3:5]\n",
    "        #print(np.sum(np.where(((calodom0[sim*2]-goal[0])**2+(calodom0[sim*2+1]-goal[1])**2)**.5<=.2,1,0)))\n",
    "        ind = np.where(((calodom0[sim*2]-goal[0])**2+(calodom0[sim*2+1]-goal[1])**2)**.5<=.2)\n",
    "        #print(ind)\n",
    "        tf[sim] = ind[0][0]*.1\n",
    "    else:\n",
    "        tf[sim] = None\n",
    "sig = np.nanstd(tf)\n",
    "print(\"Time\")\n",
    "print(z*sig/(n_sims**.5))\n",
    "print(z**2*sig**2/g**2)"
   ]
  },
  {
   "cell_type": "code",
   "execution_count": null,
   "metadata": {},
   "outputs": [],
   "source": []
  }
 ],
 "metadata": {
  "kernelspec": {
   "display_name": "Python 3",
   "language": "python",
   "name": "python3"
  },
  "language_info": {
   "codemirror_mode": {
    "name": "ipython",
    "version": 3
   },
   "file_extension": ".py",
   "mimetype": "text/x-python",
   "name": "python",
   "nbconvert_exporter": "python",
   "pygments_lexer": "ipython3",
   "version": "3.6.9"
  },
  "latex_envs": {
   "LaTeX_envs_menu_present": true,
   "autoclose": false,
   "autocomplete": true,
   "bibliofile": "biblio.bib",
   "cite_by": "apalike",
   "current_citInitial": 1,
   "eqLabelWithNumbers": true,
   "eqNumInitial": 1,
   "hotkeys": {
    "equation": "Ctrl-E",
    "itemize": "Ctrl-I"
   },
   "labels_anchors": false,
   "latex_user_defs": false,
   "report_style_numbering": false,
   "user_envs_cfg": false
  }
 },
 "nbformat": 4,
 "nbformat_minor": 4
}
