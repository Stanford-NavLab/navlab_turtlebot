{
 "cells": [
  {
   "cell_type": "code",
   "execution_count": 3,
   "metadata": {},
   "outputs": [],
   "source": [
    "import os\n",
    "import numpy as np\n",
    "\n",
    "from common.trajectory import Trajectory\n",
    "from planning.linear_planning_model import LinearPlanningModel"
   ]
  },
  {
   "cell_type": "code",
   "execution_count": 4,
   "metadata": {},
   "outputs": [],
   "source": [
    "lpm_path = os.path.join(os.getcwd(), '..', 'models', 'quadrotor_linear_planning_model.mat')\n",
    "LPM = LinearPlanningModel(lpm_path)"
   ]
  },
  {
   "cell_type": "code",
   "execution_count": 7,
   "metadata": {},
   "outputs": [],
   "source": [
    "v_0 = np.array([0.0, 0.0])\n",
    "a_0 = np.array([0.0, 0.0])\n",
    "v_pk = np.array([1.94, -0.06])\n",
    "k = np.vstack((v_0, a_0, v_pk))\n",
    "P, V, A = LPM.compute_trajectory(k)"
   ]
  },
  {
   "cell_type": "code",
   "execution_count": 16,
   "metadata": {},
   "outputs": [
    {
     "data": {
      "text/plain": [
       "array([[ 0.        , -0.3091798 ],\n",
       "       [ 0.02472886,  0.        ],\n",
       "       [ 0.0943147 ,  0.        ],\n",
       "       [ 0.20185647,  0.        ],\n",
       "       [ 0.34045308,  0.        ],\n",
       "       [ 0.50320346,  0.        ],\n",
       "       [ 0.68320652,  0.        ],\n",
       "       [ 0.8735612 ,  0.        ],\n",
       "       [ 1.06736641,  0.        ],\n",
       "       [ 1.25772109,  0.        ],\n",
       "       [ 1.43772416,  0.        ],\n",
       "       [ 1.60047453,  0.        ],\n",
       "       [ 1.73907114,  0.        ],\n",
       "       [ 1.84661291,  0.        ],\n",
       "       [ 1.91619876,  0.        ],\n",
       "       [ 1.94092761,  0.        ],\n",
       "       [ 1.91619876,  0.        ],\n",
       "       [ 1.84661291,  0.        ],\n",
       "       [ 1.73907114,  0.        ],\n",
       "       [ 1.60047453,  0.        ],\n",
       "       [ 1.43772416,  0.        ],\n",
       "       [ 1.25772109,  0.        ],\n",
       "       [ 1.06736641,  0.        ],\n",
       "       [ 0.8735612 ,  0.        ],\n",
       "       [ 0.68320652,  0.        ],\n",
       "       [ 0.50320346,  0.        ],\n",
       "       [ 0.34045308,  0.        ],\n",
       "       [ 0.20185647,  0.        ],\n",
       "       [ 0.0943147 ,  0.        ],\n",
       "       [ 0.02472886,  0.3091798 ],\n",
       "       [ 0.        ,  0.        ]])"
      ]
     },
     "execution_count": 16,
     "metadata": {},
     "output_type": "execute_result"
    }
   ],
   "source": [
    "values = np.stack((P, V, A))\n",
    "traj = Trajectory(LPM.time, values=values)\n",
    "traj.compute_twist_controls()"
   ]
  },
  {
   "cell_type": "code",
   "execution_count": 18,
   "metadata": {},
   "outputs": [
    {
     "data": {
      "text/plain": [
       "array([ 0.        , -0.03091798, -0.03091798, -0.03091798, -0.03091798,\n",
       "       -0.03091798, -0.03091798, -0.03091798, -0.03091798, -0.03091798,\n",
       "       -0.03091798, -0.03091798, -0.03091798, -0.03091798, -0.03091798,\n",
       "       -0.03091798, -0.03091798, -0.03091798, -0.03091798, -0.03091798,\n",
       "       -0.03091798, -0.03091798, -0.03091798, -0.03091798, -0.03091798,\n",
       "       -0.03091798, -0.03091798, -0.03091798, -0.03091798, -0.03091798,\n",
       "        0.        ])"
      ]
     },
     "execution_count": 18,
     "metadata": {},
     "output_type": "execute_result"
    }
   ],
   "source": [
    "thetas = np.arctan2(traj.velocities[:,1], traj.velocities[:,0])\n",
    "thetas"
   ]
  },
  {
   "cell_type": "code",
   "execution_count": 12,
   "metadata": {},
   "outputs": [
    {
     "data": {
      "text/plain": [
       "array([ 0.        , -0.00076444, -0.00291556, -0.00624   , -0.01052444,\n",
       "       -0.01555556, -0.02112   , -0.02700444, -0.03299556, -0.03888   ,\n",
       "       -0.04444444, -0.04947556, -0.05376   , -0.05708444, -0.05923556,\n",
       "       -0.06      , -0.05923556, -0.05708444, -0.05376   , -0.04947556,\n",
       "       -0.04444444, -0.03888   , -0.03299556, -0.02700444, -0.02112   ,\n",
       "       -0.01555556, -0.01052444, -0.00624   , -0.00291556, -0.00076444,\n",
       "        0.        ])"
      ]
     },
     "execution_count": 12,
     "metadata": {},
     "output_type": "execute_result"
    }
   ],
   "source": [
    "V[:,1]"
   ]
  },
  {
   "cell_type": "code",
   "execution_count": 14,
   "metadata": {},
   "outputs": [
    {
     "data": {
      "image/png": "[encoded data removed]",
      "text/plain": [
       "<Figure size 640x480 with 1 Axes>"
      ]
     },
     "metadata": {},
     "output_type": "display_data"
    }
   ],
   "source": [
    "# Quiver plot of positions and velocities\n",
    "import matplotlib.pyplot as plt\n",
    "plt.quiver(P[:5,0], P[:5,1], V[:5,0], V[:5,1])\n",
    "# Make axes equal\n",
    "plt.axis('equal')\n",
    "plt.show()"
   ]
  },
  {
   "cell_type": "code",
   "execution_count": null,
   "metadata": {},
   "outputs": [],
   "source": []
  }
 ],
 "metadata": {
  "kernelspec": {
   "display_name": "base",
   "language": "python",
   "name": "python3"
  },
  "language_info": {
   "codemirror_mode": {
    "name": "ipython",
    "version": 3
   },
   "file_extension": ".py",
   "mimetype": "text/x-python",
   "name": "python",
   "nbconvert_exporter": "python",
   "pygments_lexer": "ipython3",
   "version": "3.9.13 (main, Aug 25 2022, 23:26:10) \n[GCC 11.2.0]"
  },
  "orig_nbformat": 4,
  "vscode": {
   "interpreter": {
    "hash": "ac15c8db29de5454eb2e14f01b25c9f532a09761747e4d5a3ad8a634444bac01"
   }
  }
 },
 "nbformat": 4,
 "nbformat_minor": 2
}
