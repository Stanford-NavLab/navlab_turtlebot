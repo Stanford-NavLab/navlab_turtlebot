{
 "cells": [
  {
   "cell_type": "code",
   "execution_count": null,
   "metadata": {},
   "outputs": [],
   "source": [
    "import os\n",
    "import numpy as np\n",
    "import matplotlib.pyplot as plt\n",
    "import rosbag\n",
    "\n",
    "from navlab_turtlebot_common.trajectory import Trajectory\n",
    "from navlab_turtlebot_planning.linear_planning_model import LinearPlanningModel\n",
    "from navlab_turtlebot_planning.dubins_planning_model import dubins_traj, dubins\n",
    "\n",
    "%load_ext autoreload\n",
    "%autoreload 2"
   ]
  },
  {
   "attachments": {},
   "cell_type": "markdown",
   "metadata": {},
   "source": [
    "Drake "
   ]
  },
  {
   "cell_type": "code",
   "execution_count": null,
   "metadata": {},
   "outputs": [],
   "source": [
    "from pydrake.solvers import MathematicalProgram\n",
    "from pydrake.solvers import Solve\n",
    "\n",
    "# Create an empty MathematicalProgram named prog (with no decision variables, \n",
    "# constraints or cost function)\n",
    "prog = MathematicalProgram()\n",
    "\n",
    "u = prog.NewContinuousVariables(2)"
   ]
  },
  {
   "cell_type": "code",
   "execution_count": null,
   "metadata": {},
   "outputs": [],
   "source": [
    "def goal_cost(u):\n",
    "    \"\"\"Sample points along an arc of length vT and angle wT\"\"\"\n",
    "    x0 = np.zeros(3)\n",
    "    N = 30\n",
    "    dt = 0.1\n",
    "    goal = np.array([5, 0])\n",
    "    \n",
    "    # T = N * dt\n",
    "    # if u[1] == 0:\n",
    "    #     x = u[0] * T\n",
    "    #     y = 0\n",
    "    # else:\n",
    "    #     r = u[0] / u[1]\n",
    "    #     angle = u[1] * T\n",
    "    #     # In robot local frame\n",
    "    #     x = r * np.sin(angle)\n",
    "    #     y = -r * (1 - np.cos(angle))\n",
    "    # # Rotate and translate to global frame\n",
    "    # x_global = x * np.cos(x0[2]) - y * np.sin(x0[2]) + x0[0]\n",
    "    # y_global = x * np.sin(x0[2]) + y * np.cos(x0[2]) + x0[1]\n",
    "    # return np.linalg.norm(np.array([x_global, y_global]) - goal)\n",
    "    traj = dubins(x0[0], x0[1], x0[2], u[0], u[1])\n",
    "    return np.linalg.norm(traj[-1,:2] - goal)"
   ]
  },
  {
   "cell_type": "code",
   "execution_count": null,
   "metadata": {},
   "outputs": [],
   "source": [
    "dubins(0,0,0,1,0)"
   ]
  },
  {
   "cell_type": "code",
   "execution_count": null,
   "metadata": {},
   "outputs": [],
   "source": [
    "x0 = np.array([1,0,0])\n",
    "prog.AddCost(goal_cost, vars=u)\n",
    "prog.AddBoundingBoxConstraint(0, 0.22, u[0])\n",
    "prog.AddBoundingBoxConstraint(-1.0, 1.0, u[1])\n",
    "result = Solve(prog)\n",
    "\n",
    "# print out the result.\n",
    "print(\"Success? \", result.is_success())\n",
    "# Print the solution to the decision variables.\n",
    "print('u* = ', result.GetSolution(u))\n",
    "# Print the optimal cost.\n",
    "print('optimal cost = ', result.get_optimal_cost())\n",
    "# Print the name of the solver that was called.\n",
    "print('solver is: ', result.get_solver_id().name())"
   ]
  },
  {
   "cell_type": "code",
   "execution_count": null,
   "metadata": {},
   "outputs": [],
   "source": [
    "\"\"\"\n",
    "Solves a simple optimization problem\n",
    "       min x(0)^2 + x(1)^2\n",
    "subject to x(0) + x(1) = 1\n",
    "           x(0) <= x(1)\n",
    "\"\"\"\n",
    "from pydrake.solvers import Solve\n",
    "# Set up the optimization problem.\n",
    "prog = MathematicalProgram()\n",
    "x = prog.NewContinuousVariables(2)\n",
    "prog.AddConstraint(x[0] + x[1] == 1)\n",
    "prog.AddConstraint(x[0] <= x[1])\n",
    "\n",
    "def cost(x):\n",
    "    return x[0] ** 2 + x[1] ** 2\n",
    "\n",
    "prog.AddCost(cost, vars=x)\n",
    "\n",
    "# Now solve the optimization problem.\n",
    "result = Solve(prog)\n",
    "\n",
    "# print out the result.\n",
    "print(\"Success? \", result.is_success())\n",
    "# Print the solution to the decision variables.\n",
    "print('x* = ', result.GetSolution(x))\n",
    "# Print the optimal cost.\n",
    "print('optimal cost = ', result.get_optimal_cost())\n",
    "# Print the name of the solver that was called.\n",
    "print('solver is: ', result.get_solver_id().name())"
   ]
  },
  {
   "cell_type": "code",
   "execution_count": null,
   "metadata": {},
   "outputs": [],
   "source": [
    "from navlab_turtlebot_common.msg import Control\n",
    "\n",
    "Control(0, 1)"
   ]
  },
  {
   "cell_type": "code",
   "execution_count": null,
   "metadata": {},
   "outputs": [],
   "source": [
    "lpm_path = os.path.join(os.getcwd(), '..', 'models', 'quadrotor_linear_planning_model.mat')\n",
    "LPM = LinearPlanningModel(lpm_path)"
   ]
  },
  {
   "cell_type": "code",
   "execution_count": null,
   "metadata": {},
   "outputs": [],
   "source": [
    "v_0 = np.array([0.0, 0.0])\n",
    "a_0 = np.array([0.0, 0.0])\n",
    "v_pk = np.array([1.94, -0.06])\n",
    "k = np.vstack((v_0, a_0, v_pk))\n",
    "P, V, A = LPM.compute_trajectory(k)"
   ]
  },
  {
   "cell_type": "code",
   "execution_count": null,
   "metadata": {},
   "outputs": [],
   "source": [
    "values = np.stack((P, V, A))\n",
    "traj = Trajectory(LPM.time, values=values)\n",
    "traj.compute_twist_controls()"
   ]
  },
  {
   "cell_type": "code",
   "execution_count": null,
   "metadata": {},
   "outputs": [],
   "source": [
    "traj.compute_thetas()"
   ]
  },
  {
   "cell_type": "code",
   "execution_count": null,
   "metadata": {},
   "outputs": [],
   "source": [
    "traj.thetas"
   ]
  },
  {
   "cell_type": "code",
   "execution_count": null,
   "metadata": {},
   "outputs": [],
   "source": [
    "V[:,1]"
   ]
  },
  {
   "cell_type": "code",
   "execution_count": null,
   "metadata": {},
   "outputs": [],
   "source": [
    "# Quiver plot of positions and velocities\n",
    "import matplotlib.pyplot as plt\n",
    "plt.quiver(P[:5,0], P[:5,1], V[:5,0], V[:5,1])\n",
    "# Make axes equal\n",
    "plt.axis('equal')\n",
    "plt.show()"
   ]
  },
  {
   "cell_type": "code",
   "execution_count": null,
   "metadata": {},
   "outputs": [],
   "source": [
    "import navlab_turtlebot_common.params as params\n",
    "\n",
    "DTHETA = 0.5\n",
    "\n",
    "v_0 = np.array([1.0, 0.0])\n",
    "theta = np.arctan2(v_0[1], v_0[0])\n",
    "rands = np.random.rand(params.N_PLAN_MAX, 2)\n",
    "thetas = theta - DTHETA + 2*DTHETA*rands[:,0]\n",
    "rs = params.V_MAX_NORM * np.sqrt(rands[:,1])\n",
    "V_peak = np.vstack((rs*np.cos(thetas), rs*np.sin(thetas))).T"
   ]
  },
  {
   "cell_type": "code",
   "execution_count": null,
   "metadata": {},
   "outputs": [],
   "source": [
    "import matplotlib.pyplot as plt\n",
    "# Plot v_peak samples\n",
    "plt.scatter(V_peak[:,0], V_peak[:,1])\n",
    "# Make axes equal\n",
    "plt.axis('equal')\n",
    "plt.show()"
   ]
  },
  {
   "attachments": {},
   "cell_type": "markdown",
   "metadata": {},
   "source": [
    "Rosbag processing"
   ]
  },
  {
   "cell_type": "code",
   "execution_count": null,
   "metadata": {},
   "outputs": [],
   "source": [
    "datapath = os.path.join('home', 'navlab', 'Data', 'rosbags', 'turtlebot', '4-19-2023')\n",
    "bagfile = os.path.join(datapath, '2023-04-19-15-16-29.bag')"
   ]
  },
  {
   "cell_type": "code",
   "execution_count": null,
   "metadata": {},
   "outputs": [],
   "source": [
    "bag = rosbag.Bag('2023-04-19-15-16-29.bag', 'r')"
   ]
  },
  {
   "cell_type": "code",
   "execution_count": null,
   "metadata": {},
   "outputs": [],
   "source": [
    "topics = bag.get_type_and_topic_info()[1].keys()"
   ]
  },
  {
   "cell_type": "code",
   "execution_count": null,
   "metadata": {},
   "outputs": [],
   "source": [
    "topics"
   ]
  },
  {
   "cell_type": "code",
   "execution_count": null,
   "metadata": {},
   "outputs": [],
   "source": [
    "topics = ['/turtlebot3/cmd_vel',\n",
    "          '/turtlebot3/sensing/mocap',\n",
    "          '/turtlebot3/sensing/mocap_noisy',\n",
    "          '/turtlebot3/state_est',\n",
    "          '/turtlebot3/planner/traj']"
   ]
  },
  {
   "cell_type": "code",
   "execution_count": null,
   "metadata": {},
   "outputs": [],
   "source": [
    "x_hist = []\n",
    "y_hist = []\n",
    "for topic, msg, t in bag.read_messages(topics=['/turtlebot3/sensing/mocap']):\n",
    "    x_hist.append(msg.x)\n",
    "    y_hist.append(msg.y)"
   ]
  },
  {
   "cell_type": "code",
   "execution_count": null,
   "metadata": {},
   "outputs": [],
   "source": [
    "plt.plot(x_hist, y_hist)\n",
    "plt.axis('equal')\n",
    "plt.show()"
   ]
  },
  {
   "cell_type": "code",
   "execution_count": null,
   "metadata": {},
   "outputs": [],
   "source": [
    "from navlab_turtlebot_common.utils import unwrap_states\n",
    "\n",
    "trajs = []\n",
    "for topic, msg, t in bag.read_messages(topics=['/turtlebot3/planner/traj']):\n",
    "    trajs.append(unwrap_states(msg.states))"
   ]
  },
  {
   "cell_type": "code",
   "execution_count": null,
   "metadata": {},
   "outputs": [],
   "source": [
    "trajs[0].shape"
   ]
  },
  {
   "cell_type": "code",
   "execution_count": null,
   "metadata": {},
   "outputs": [],
   "source": [
    "fig = plt.figure(figsize=(10,10))\n",
    "for traj in trajs:\n",
    "    plt.plot(traj[:,0], traj[:,1])\n",
    "plt.axis('equal')\n",
    "plt.show()"
   ]
  },
  {
   "cell_type": "code",
   "execution_count": null,
   "metadata": {},
   "outputs": [],
   "source": [
    "for topic, msg, t in bag.read_messages(topics):\n",
    "    print(msg)\n",
    "bag.close()"
   ]
  },
  {
   "cell_type": "code",
   "execution_count": null,
   "metadata": {},
   "outputs": [],
   "source": []
  }
 ],
 "metadata": {
  "kernelspec": {
   "display_name": "Python 3",
   "language": "python",
   "name": "python3"
  },
  "language_info": {
   "codemirror_mode": {
    "name": "ipython",
    "version": 3
   },
   "file_extension": ".py",
   "mimetype": "text/x-python",
   "name": "python",
   "nbconvert_exporter": "python",
   "pygments_lexer": "ipython3",
   "version": "3.8.10"
  },
  "orig_nbformat": 4,
  "vscode": {
   "interpreter": {
    "hash": "916dbcbb3f70747c44a77c7bcd40155683ae19c65e1c03b4aa3499c5328201f1"
   }
  }
 },
 "nbformat": 4,
 "nbformat_minor": 2
}
