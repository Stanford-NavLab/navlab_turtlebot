{
 "cells": [
  {
   "cell_type": "code",
   "execution_count": null,
   "metadata": {},
   "outputs": [],
   "source": [
    "import os\n",
    "import numpy as np\n",
    "import matplotlib.pyplot as plt\n",
    "import rosbag\n",
    "\n",
    "from navlab_turtlebot_common.trajectory import Trajectory\n",
    "from navlab_turtlebot_planning.linear_planning_model import LinearPlanningModel\n",
    "\n",
    "%load_ext autoreload\n",
    "%autoreload 2"
   ]
  },
  {
   "cell_type": "code",
   "execution_count": null,
   "metadata": {},
   "outputs": [],
   "source": [
    "from navlab_turtlebot_common.msg import Control\n",
    "\n",
    "Control(0, 1)"
   ]
  },
  {
   "cell_type": "code",
   "execution_count": null,
   "metadata": {},
   "outputs": [],
   "source": [
    "lpm_path = os.path.join(os.getcwd(), '..', 'models', 'quadrotor_linear_planning_model.mat')\n",
    "LPM = LinearPlanningModel(lpm_path)"
   ]
  },
  {
   "cell_type": "code",
   "execution_count": null,
   "metadata": {},
   "outputs": [],
   "source": [
    "v_0 = np.array([0.0, 0.0])\n",
    "a_0 = np.array([0.0, 0.0])\n",
    "v_pk = np.array([1.94, -0.06])\n",
    "k = np.vstack((v_0, a_0, v_pk))\n",
    "P, V, A = LPM.compute_trajectory(k)"
   ]
  },
  {
   "cell_type": "code",
   "execution_count": null,
   "metadata": {},
   "outputs": [],
   "source": [
    "values = np.stack((P, V, A))\n",
    "traj = Trajectory(LPM.time, values=values)\n",
    "traj.compute_twist_controls()"
   ]
  },
  {
   "cell_type": "code",
   "execution_count": null,
   "metadata": {},
   "outputs": [],
   "source": [
    "traj.compute_thetas()"
   ]
  },
  {
   "cell_type": "code",
   "execution_count": null,
   "metadata": {},
   "outputs": [],
   "source": [
    "traj.thetas"
   ]
  },
  {
   "cell_type": "code",
   "execution_count": null,
   "metadata": {},
   "outputs": [],
   "source": [
    "V[:,1]"
   ]
  },
  {
   "cell_type": "code",
   "execution_count": null,
   "metadata": {},
   "outputs": [],
   "source": [
    "# Quiver plot of positions and velocities\n",
    "import matplotlib.pyplot as plt\n",
    "plt.quiver(P[:5,0], P[:5,1], V[:5,0], V[:5,1])\n",
    "# Make axes equal\n",
    "plt.axis('equal')\n",
    "plt.show()"
   ]
  },
  {
   "cell_type": "code",
   "execution_count": null,
   "metadata": {},
   "outputs": [],
   "source": [
    "import navlab_turtlebot_common.params as params\n",
    "\n",
    "DTHETA = 0.5\n",
    "\n",
    "v_0 = np.array([1.0, 0.0])\n",
    "theta = np.arctan2(v_0[1], v_0[0])\n",
    "rands = np.random.rand(params.N_PLAN_MAX, 2)\n",
    "thetas = theta - DTHETA + 2*DTHETA*rands[:,0]\n",
    "rs = params.V_MAX_NORM * np.sqrt(rands[:,1])\n",
    "V_peak = np.vstack((rs*np.cos(thetas), rs*np.sin(thetas))).T"
   ]
  },
  {
   "cell_type": "code",
   "execution_count": null,
   "metadata": {},
   "outputs": [],
   "source": [
    "import matplotlib.pyplot as plt\n",
    "# Plot v_peak samples\n",
    "plt.scatter(V_peak[:,0], V_peak[:,1])\n",
    "# Make axes equal\n",
    "plt.axis('equal')\n",
    "plt.show()"
   ]
  },
  {
   "attachments": {},
   "cell_type": "markdown",
   "metadata": {},
   "source": [
    "Rosbag processing"
   ]
  },
  {
   "cell_type": "code",
   "execution_count": null,
   "metadata": {},
   "outputs": [],
   "source": [
    "datapath = os.path.join('home', 'navlab', 'Data', 'rosbags', 'turtlebot', '4-19-2023')\n",
    "bagfile = os.path.join(datapath, '2023-04-19-15-16-29.bag')"
   ]
  },
  {
   "cell_type": "code",
   "execution_count": null,
   "metadata": {},
   "outputs": [],
   "source": [
    "bag = rosbag.Bag('2023-04-19-15-16-29.bag', 'r')"
   ]
  },
  {
   "cell_type": "code",
   "execution_count": null,
   "metadata": {},
   "outputs": [],
   "source": [
    "topics = bag.get_type_and_topic_info()[1].keys()"
   ]
  },
  {
   "cell_type": "code",
   "execution_count": null,
   "metadata": {},
   "outputs": [],
   "source": [
    "topics"
   ]
  },
  {
   "cell_type": "code",
   "execution_count": null,
   "metadata": {},
   "outputs": [],
   "source": [
    "topics = ['/turtlebot3/cmd_vel',\n",
    "          '/turtlebot3/sensing/mocap',\n",
    "          '/turtlebot3/sensing/mocap_noisy',\n",
    "          '/turtlebot3/state_est',\n",
    "          '/turtlebot3/planner/traj']"
   ]
  },
  {
   "cell_type": "code",
   "execution_count": null,
   "metadata": {},
   "outputs": [],
   "source": [
    "x_hist = []\n",
    "y_hist = []\n",
    "for topic, msg, t in bag.read_messages(topics=['/turtlebot3/sensing/mocap']):\n",
    "    x_hist.append(msg.x)\n",
    "    y_hist.append(msg.y)"
   ]
  },
  {
   "cell_type": "code",
   "execution_count": null,
   "metadata": {},
   "outputs": [],
   "source": [
    "plt.plot(x_hist, y_hist)\n",
    "plt.axis('equal')\n",
    "plt.show()"
   ]
  },
  {
   "cell_type": "code",
   "execution_count": null,
   "metadata": {},
   "outputs": [],
   "source": [
    "from navlab_turtlebot_common.utils import unwrap_states\n",
    "\n",
    "trajs = []\n",
    "for topic, msg, t in bag.read_messages(topics=['/turtlebot3/planner/traj']):\n",
    "    trajs.append(unwrap_states(msg.states))"
   ]
  },
  {
   "cell_type": "code",
   "execution_count": null,
   "metadata": {},
   "outputs": [],
   "source": [
    "trajs[0].shape"
   ]
  },
  {
   "cell_type": "code",
   "execution_count": null,
   "metadata": {},
   "outputs": [],
   "source": [
    "fig = plt.figure(figsize=(10,10))\n",
    "for traj in trajs:\n",
    "    plt.plot(traj[:,0], traj[:,1])\n",
    "plt.axis('equal')\n",
    "plt.show()"
   ]
  },
  {
   "cell_type": "code",
   "execution_count": null,
   "metadata": {},
   "outputs": [],
   "source": [
    "for topic, msg, t in bag.read_messages(topics):\n",
    "    print(msg)\n",
    "bag.close()"
   ]
  },
  {
   "cell_type": "code",
   "execution_count": null,
   "metadata": {},
   "outputs": [],
   "source": []
  }
 ],
 "metadata": {
  "kernelspec": {
   "display_name": "base",
   "language": "python",
   "name": "python3"
  },
  "language_info": {
   "codemirror_mode": {
    "name": "ipython",
    "version": 3
   },
   "file_extension": ".py",
   "mimetype": "text/x-python",
   "name": "python",
   "nbconvert_exporter": "python",
   "pygments_lexer": "ipython3",
   "version": "3.8.10"
  },
  "orig_nbformat": 4,
  "vscode": {
   "interpreter": {
    "hash": "ac15c8db29de5454eb2e14f01b25c9f532a09761747e4d5a3ad8a634444bac01"
   }
  }
 },
 "nbformat": 4,
 "nbformat_minor": 2
}
