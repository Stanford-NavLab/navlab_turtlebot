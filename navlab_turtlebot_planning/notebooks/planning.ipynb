{
 "cells": [
  {
   "cell_type": "code",
   "execution_count": 1,
   "metadata": {},
   "outputs": [],
   "source": [
    "import os\n",
    "import numpy as np\n",
    "\n",
    "from navlab_turtlebot_common.trajectory import Trajectory\n",
    "from navlab_turtlebot_planning.linear_planning_model import LinearPlanningModel\n",
    "\n",
    "%load_ext autoreload\n",
    "%autoreload 2"
   ]
  },
  {
   "cell_type": "code",
   "execution_count": 2,
   "metadata": {},
   "outputs": [
    {
     "data": {
      "text/plain": [
       "v: 0\n",
       "omega: 1"
      ]
     },
     "execution_count": 2,
     "metadata": {},
     "output_type": "execute_result"
    }
   ],
   "source": [
    "from navlab_turtlebot_common.msg import Control\n",
    "\n",
    "Control(0, 1)"
   ]
  },
  {
   "cell_type": "code",
   "execution_count": null,
   "metadata": {},
   "outputs": [],
   "source": [
    "lpm_path = os.path.join(os.getcwd(), '..', 'models', 'quadrotor_linear_planning_model.mat')\n",
    "LPM = LinearPlanningModel(lpm_path)"
   ]
  },
  {
   "cell_type": "code",
   "execution_count": null,
   "metadata": {},
   "outputs": [],
   "source": [
    "v_0 = np.array([0.0, 0.0])\n",
    "a_0 = np.array([0.0, 0.0])\n",
    "v_pk = np.array([1.94, -0.06])\n",
    "k = np.vstack((v_0, a_0, v_pk))\n",
    "P, V, A = LPM.compute_trajectory(k)"
   ]
  },
  {
   "cell_type": "code",
   "execution_count": null,
   "metadata": {},
   "outputs": [],
   "source": [
    "values = np.stack((P, V, A))\n",
    "traj = Trajectory(LPM.time, values=values)\n",
    "traj.compute_twist_controls()"
   ]
  },
  {
   "cell_type": "code",
   "execution_count": null,
   "metadata": {},
   "outputs": [],
   "source": [
    "traj.compute_thetas()"
   ]
  },
  {
   "cell_type": "code",
   "execution_count": null,
   "metadata": {},
   "outputs": [],
   "source": [
    "traj.thetas"
   ]
  },
  {
   "cell_type": "code",
   "execution_count": null,
   "metadata": {},
   "outputs": [],
   "source": [
    "V[:,1]"
   ]
  },
  {
   "cell_type": "code",
   "execution_count": null,
   "metadata": {},
   "outputs": [],
   "source": [
    "# Quiver plot of positions and velocities\n",
    "import matplotlib.pyplot as plt\n",
    "plt.quiver(P[:5,0], P[:5,1], V[:5,0], V[:5,1])\n",
    "# Make axes equal\n",
    "plt.axis('equal')\n",
    "plt.show()"
   ]
  },
  {
   "cell_type": "code",
   "execution_count": null,
   "metadata": {},
   "outputs": [],
   "source": [
    "import navlab_turtlebot_common.params as params\n",
    "\n",
    "DTHETA = 0.5\n",
    "\n",
    "v_0 = np.array([1.0, 0.0])\n",
    "theta = np.arctan2(v_0[1], v_0[0])\n",
    "rands = np.random.rand(params.N_PLAN_MAX, 2)\n",
    "thetas = theta - DTHETA + 2*DTHETA*rands[:,0]\n",
    "rs = params.V_MAX_NORM * np.sqrt(rands[:,1])\n",
    "V_peak = np.vstack((rs*np.cos(thetas), rs*np.sin(thetas))).T"
   ]
  },
  {
   "cell_type": "code",
   "execution_count": null,
   "metadata": {},
   "outputs": [],
   "source": [
    "import matplotlib.pyplot as plt\n",
    "# Plot v_peak samples\n",
    "plt.scatter(V_peak[:,0], V_peak[:,1])\n",
    "# Make axes equal\n",
    "plt.axis('equal')\n",
    "plt.show()"
   ]
  },
  {
   "cell_type": "code",
   "execution_count": null,
   "metadata": {},
   "outputs": [],
   "source": []
  }
 ],
 "metadata": {
  "kernelspec": {
   "display_name": "base",
   "language": "python",
   "name": "python3"
  },
  "language_info": {
   "codemirror_mode": {
    "name": "ipython",
    "version": 3
   },
   "file_extension": ".py",
   "mimetype": "text/x-python",
   "name": "python",
   "nbconvert_exporter": "python",
   "pygments_lexer": "ipython3",
   "version": "3.9.13"
  },
  "orig_nbformat": 4,
  "vscode": {
   "interpreter": {
    "hash": "ac15c8db29de5454eb2e14f01b25c9f532a09761747e4d5a3ad8a634444bac01"
   }
  }
 },
 "nbformat": 4,
 "nbformat_minor": 2
}
